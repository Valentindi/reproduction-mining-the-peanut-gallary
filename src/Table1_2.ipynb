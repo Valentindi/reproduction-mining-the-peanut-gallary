{
 "cells": [
  {
   "cell_type": "markdown",
   "metadata": {},
   "source": [
    "# Reproduktion 'Mining the Peanut Gallary'"
   ]
  },
  {
   "cell_type": "markdown",
   "metadata": {},
   "source": [
    "## Table 1/ Table 2"
   ]
  },
  {
   "cell_type": "code",
   "execution_count": null,
   "metadata": {},
   "outputs": [],
   "source": [
    "from builtins import enumerate, len\n",
    "import pandas as pd\n",
    "\n",
    "pd.options.display.float_format = '{:,.0f}'.format"
   ]
  },
  {
   "cell_type": "code",
   "execution_count": null,
   "metadata": {},
   "outputs": [],
   "source": [
    "data_src = \"../data/amazon_sample.csv\"\n",
    "df = pd.read_csv(data_src)\n",
    "print(\"shape:\",df.shape)\n",
    "print(\"columns\", df.columns)"
   ]
  },
  {
   "cell_type": "code",
   "execution_count": null,
   "metadata": {},
   "outputs": [],
   "source": [
    "df_count = pd.DataFrame()\n",
    "for it, category in enumerate(df.product_category.unique()):\n",
    "    df_count.loc[category, \"Products\"] = df[df.product_category == category].product_id.nunique()\n",
    "    df_count.loc[category, \"positive\"] = df[df.product_category == category].bool_rating.value_counts()[True]\n",
    "    df_count.loc[category, \"negative\"] = df[df.product_category == category].bool_rating.value_counts()[False]\n",
    "    \n",
    "df_count"
   ]
  },
  {
   "cell_type": "code",
   "execution_count": null,
   "metadata": {},
   "outputs": [],
   "source": []
  }
 ],
 "metadata": {
  "kernelspec": {
   "display_name": "Python 3",
   "language": "python",
   "name": "python3"
  },
  "language_info": {
   "codemirror_mode": {
    "name": "ipython",
    "version": 3
   },
   "file_extension": ".py",
   "mimetype": "text/x-python",
   "name": "python",
   "nbconvert_exporter": "python",
   "pygments_lexer": "ipython3",
   "version": "3.7.4"
  }
 },
 "nbformat": 4,
 "nbformat_minor": 2
}
