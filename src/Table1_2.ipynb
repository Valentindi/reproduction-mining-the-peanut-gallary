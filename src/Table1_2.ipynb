{
 "cells": [
  {
   "cell_type": "markdown",
   "metadata": {},
   "source": [
    "# Reproduktion 'Mining the Peanut Gallary'"
   ]
  },
  {
   "cell_type": "markdown",
   "metadata": {},
   "source": [
    "## Table 1/ Table 2"
   ]
  },
  {
   "cell_type": "code",
   "execution_count": 1,
   "metadata": {},
   "outputs": [],
   "source": [
    "from builtins import enumerate, len\n",
    "import pandas as pd"
   ]
  },
  {
   "cell_type": "code",
   "execution_count": 8,
   "metadata": {},
   "outputs": [
    {
     "name": "stdout",
     "output_type": "stream",
     "text": [
      "shape: (5515, 14)\n",
      "columns Index(['Unnamed: 0', 'customer_id', 'review_id', 'product_id', 'product_title',\n",
      "       'product_category', 'star_rating', 'review_headline', 'review_body',\n",
      "       'bool_rating', 'categorie', 'title_tokenized', 'tokens', 'text'],\n",
      "      dtype='object')\n"
     ]
    }
   ],
   "source": [
    "data_src = \"../data/data.csv\"\n",
    "df = pd.read_csv(data_src)\n",
    "print(\"shape:\",df.shape)\n",
    "print(\"columns\", df.columns)"
   ]
  },
  {
   "cell_type": "code",
   "execution_count": 20,
   "metadata": {},
   "outputs": [
    {
     "data": {
      "text/html": [
       "<div>\n",
       "<style scoped>\n",
       "    .dataframe tbody tr th:only-of-type {\n",
       "        vertical-align: middle;\n",
       "    }\n",
       "\n",
       "    .dataframe tbody tr th {\n",
       "        vertical-align: top;\n",
       "    }\n",
       "\n",
       "    .dataframe thead th {\n",
       "        text-align: right;\n",
       "    }\n",
       "</style>\n",
       "<table border=\"1\" class=\"dataframe\">\n",
       "  <thead>\n",
       "    <tr style=\"text-align: right;\">\n",
       "      <th></th>\n",
       "      <th>Products</th>\n",
       "      <th>positive</th>\n",
       "      <th>negative</th>\n",
       "    </tr>\n",
       "  </thead>\n",
       "  <tbody>\n",
       "    <tr>\n",
       "      <th>Mobile_Electronics</th>\n",
       "      <td>544.0</td>\n",
       "      <td>720.0</td>\n",
       "      <td>242.0</td>\n",
       "    </tr>\n",
       "    <tr>\n",
       "      <th>Watches</th>\n",
       "      <td>739.0</td>\n",
       "      <td>670.0</td>\n",
       "      <td>137.0</td>\n",
       "    </tr>\n",
       "    <tr>\n",
       "      <th>Home Entertainment</th>\n",
       "      <td>417.0</td>\n",
       "      <td>546.0</td>\n",
       "      <td>147.0</td>\n",
       "    </tr>\n",
       "    <tr>\n",
       "      <th>Tools</th>\n",
       "      <td>553.0</td>\n",
       "      <td>529.0</td>\n",
       "      <td>79.0</td>\n",
       "    </tr>\n",
       "    <tr>\n",
       "      <th>Electronics</th>\n",
       "      <td>687.0</td>\n",
       "      <td>635.0</td>\n",
       "      <td>146.0</td>\n",
       "    </tr>\n",
       "    <tr>\n",
       "      <th>Sports</th>\n",
       "      <td>633.0</td>\n",
       "      <td>599.0</td>\n",
       "      <td>62.0</td>\n",
       "    </tr>\n",
       "    <tr>\n",
       "      <th>Wireless</th>\n",
       "      <td>939.0</td>\n",
       "      <td>771.0</td>\n",
       "      <td>232.0</td>\n",
       "    </tr>\n",
       "  </tbody>\n",
       "</table>\n",
       "</div>"
      ],
      "text/plain": [
       "                    Products  positive  negative\n",
       "Mobile_Electronics     544.0     720.0     242.0\n",
       "Watches                739.0     670.0     137.0\n",
       "Home Entertainment     417.0     546.0     147.0\n",
       "Tools                  553.0     529.0      79.0\n",
       "Electronics            687.0     635.0     146.0\n",
       "Sports                 633.0     599.0      62.0\n",
       "Wireless               939.0     771.0     232.0"
      ]
     },
     "execution_count": 20,
     "metadata": {},
     "output_type": "execute_result"
    }
   ],
   "source": [
    "df_count = pd.DataFrame()\n",
    "for it, category in enumerate(df.product_category.unique()):\n",
    "    df_count.loc[category, \"Products\"] = df[df.product_category == category].product_id.nunique()\n",
    "    df_count.loc[category, \"positive\"] = df[df.product_category == category].bool_rating.value_counts()[True]\n",
    "    df_count.loc[category, \"negative\"] = df[df.product_category == category].bool_rating.value_counts()[False]\n",
    "    \n",
    "df_count"
   ]
  },
  {
   "cell_type": "code",
   "execution_count": null,
   "metadata": {},
   "outputs": [],
   "source": []
  }
 ],
 "metadata": {
  "kernelspec": {
   "display_name": "Python 3",
   "language": "python",
   "name": "python3"
  },
  "language_info": {
   "codemirror_mode": {
    "name": "ipython",
    "version": 3
   },
   "file_extension": ".py",
   "mimetype": "text/x-python",
   "name": "python",
   "nbconvert_exporter": "python",
   "pygments_lexer": "ipython3",
   "version": "3.7.4"
  }
 },
 "nbformat": 4,
 "nbformat_minor": 2
}
