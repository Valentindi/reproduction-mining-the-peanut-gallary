{
 "cells": [
  {
   "cell_type": "markdown",
   "metadata": {},
   "source": [
    "# Reproduktion 'Mining the Peanut Gallary'"
   ]
  },
  {
   "cell_type": "markdown",
   "metadata": {},
   "source": [
    "## Table 1/ Table 2"
   ]
  },
  {
   "cell_type": "code",
   "execution_count": 6,
   "metadata": {},
   "outputs": [],
   "source": [
    "from builtins import enumerate, len\n",
    "import pandas as pd"
   ]
  },
  {
   "cell_type": "code",
   "execution_count": 7,
   "metadata": {},
   "outputs": [
    {
     "name": "stdout",
     "output_type": "stream",
     "text": [
      "shape: (9728, 18)\n",
      "columns Index(['Unnamed: 0', 'Unnamed: 0.1', 'Unnamed: 0.1.1', 'customer_id',\n",
      "       'review_id', 'product_id', 'product_title', 'product_category',\n",
      "       'star_rating', 'review_headline', 'review_body', 'bool_rating',\n",
      "       'categorie', 'title_tokenized', 'tokens', 'text', 'tokens_no_rare',\n",
      "       'title_tokens_no_rare'],\n",
      "      dtype='object')\n"
     ]
    }
   ],
   "source": [
    "data_src = \"../data/amazon_sample.csv\"\n",
    "df = pd.read_csv(data_src)\n",
    "print(\"shape:\",df.shape)\n",
    "print(\"columns\", df.columns)"
   ]
  },
  {
   "cell_type": "code",
   "execution_count": 8,
   "metadata": {},
   "outputs": [
    {
     "data": {
      "text/html": [
       "<div>\n",
       "<style scoped>\n",
       "    .dataframe tbody tr th:only-of-type {\n",
       "        vertical-align: middle;\n",
       "    }\n",
       "\n",
       "    .dataframe tbody tr th {\n",
       "        vertical-align: top;\n",
       "    }\n",
       "\n",
       "    .dataframe thead th {\n",
       "        text-align: right;\n",
       "    }\n",
       "</style>\n",
       "<table border=\"1\" class=\"dataframe\">\n",
       "  <thead>\n",
       "    <tr style=\"text-align: right;\">\n",
       "      <th></th>\n",
       "      <th>Products</th>\n",
       "      <th>positive</th>\n",
       "      <th>negative</th>\n",
       "    </tr>\n",
       "  </thead>\n",
       "  <tbody>\n",
       "    <tr>\n",
       "      <th>Mobile_Electronics</th>\n",
       "      <td>16.0</td>\n",
       "      <td>105.0</td>\n",
       "      <td>42.0</td>\n",
       "    </tr>\n",
       "    <tr>\n",
       "      <th>Watches</th>\n",
       "      <td>35.0</td>\n",
       "      <td>1538.0</td>\n",
       "      <td>297.0</td>\n",
       "    </tr>\n",
       "    <tr>\n",
       "      <th>Wireless</th>\n",
       "      <td>22.0</td>\n",
       "      <td>1717.0</td>\n",
       "      <td>332.0</td>\n",
       "    </tr>\n",
       "    <tr>\n",
       "      <th>Home Entertainment</th>\n",
       "      <td>3.0</td>\n",
       "      <td>2269.0</td>\n",
       "      <td>674.0</td>\n",
       "    </tr>\n",
       "    <tr>\n",
       "      <th>Tools</th>\n",
       "      <td>49.0</td>\n",
       "      <td>1534.0</td>\n",
       "      <td>169.0</td>\n",
       "    </tr>\n",
       "    <tr>\n",
       "      <th>Electronics</th>\n",
       "      <td>27.0</td>\n",
       "      <td>701.0</td>\n",
       "      <td>101.0</td>\n",
       "    </tr>\n",
       "    <tr>\n",
       "      <th>Sports</th>\n",
       "      <td>12.0</td>\n",
       "      <td>206.0</td>\n",
       "      <td>43.0</td>\n",
       "    </tr>\n",
       "  </tbody>\n",
       "</table>\n",
       "</div>"
      ],
      "text/plain": [
       "                    Products  positive  negative\n",
       "Mobile_Electronics      16.0     105.0      42.0\n",
       "Watches                 35.0    1538.0     297.0\n",
       "Wireless                22.0    1717.0     332.0\n",
       "Home Entertainment       3.0    2269.0     674.0\n",
       "Tools                   49.0    1534.0     169.0\n",
       "Electronics             27.0     701.0     101.0\n",
       "Sports                  12.0     206.0      43.0"
      ]
     },
     "execution_count": 8,
     "metadata": {},
     "output_type": "execute_result"
    }
   ],
   "source": [
    "df_count = pd.DataFrame()\n",
    "for it, category in enumerate(df.product_category.unique()):\n",
    "    df_count.loc[category, \"Products\"] = df[df.product_category == category].product_id.nunique()\n",
    "    df_count.loc[category, \"positive\"] = df[df.product_category == category].bool_rating.value_counts()[True]\n",
    "    df_count.loc[category, \"negative\"] = df[df.product_category == category].bool_rating.value_counts()[False]\n",
    "    \n",
    "df_count"
   ]
  },
  {
   "cell_type": "code",
   "execution_count": 9,
   "metadata": {},
   "outputs": [
    {
     "data": {
      "text/plain": [
       "array([ True])"
      ]
     },
     "execution_count": 9,
     "metadata": {},
     "output_type": "execute_result"
    }
   ],
   "source": [
    "df.categorie.unique()"
   ]
  },
  {
   "cell_type": "code",
   "execution_count": null,
   "metadata": {},
   "outputs": [],
   "source": []
  }
 ],
 "metadata": {
  "kernelspec": {
   "display_name": "Python 3",
   "language": "python",
   "name": "python3"
  },
  "language_info": {
   "codemirror_mode": {
    "name": "ipython",
    "version": 3
   },
   "file_extension": ".py",
   "mimetype": "text/x-python",
   "name": "python",
   "nbconvert_exporter": "python",
   "pygments_lexer": "ipython3",
   "version": "3.7.4"
  }
 },
 "nbformat": 4,
 "nbformat_minor": 2
}
