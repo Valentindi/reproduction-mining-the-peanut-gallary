{
 "cells": [
  {
   "cell_type": "markdown",
   "metadata": {},
   "source": [
    "# Reproduktion 'Mining the Peanut Gallary'"
   ]
  },
  {
   "cell_type": "markdown",
   "metadata": {},
   "source": [
    "## Some Helper Functions"
   ]
  },
  {
   "cell_type": "code",
   "execution_count": null,
   "metadata": {},
   "outputs": [],
   "source": [
    "from builtins import enumerate, len\n",
    "import pandas as pd\n",
    "from ast import literal_eval\n",
    "from copy import copy"
   ]
  },
  {
   "cell_type": "code",
   "execution_count": null,
   "metadata": {},
   "outputs": [],
   "source": [
    "dataset_paths = [ \"../data/df_test_1.csv\", \"../data/df_test_2.csv\"]\n",
    "ngrams = [2,3]\n",
    "repl_prod_name = [True, False]\n",
    "tokens_columns = [\"tokens_no_rare\", \"tokens\"]"
   ]
  },
  {
   "cell_type": "code",
   "execution_count": null,
   "metadata": {},
   "outputs": [],
   "source": [
    "def load_dataset(path):\n",
    "    df = pd.read_csv(path)\n",
    "\n",
    "    train_idxes = df.test_idx.unique()\n",
    "    print(train_idxes)\n",
    "\n",
    "    res = []\n",
    "\n",
    "    for train_idx in train_idxes:\n",
    "        mask = df.test_idx == train_idx\n",
    "\n",
    "        df_train = pd.read_csv(path)\n",
    "        df_test = copy(df_train)\n",
    "\n",
    "        df_train = df_train[~mask]\n",
    "        df_test = df_test[mask]\n",
    "\n",
    "        res += [(df_train, df_test)]\n",
    "\n",
    "    return res\n",
    "\n",
    "\n"
   ]
  },
  {
   "cell_type": "markdown",
   "metadata": {},
   "source": [
    "## scoring"
   ]
  },
  {
   "cell_type": "code",
   "execution_count": null,
   "metadata": {},
   "outputs": [],
   "source": [
    "from nltk import word_tokenize\n",
    "import math\n",
    "from random import random\n",
    "\n",
    "\n",
    "_REPL_PROD_TITLE_ = \"_REPL_PROD_TITLE\"\n",
    "def create_n_grams(tokens, n):\n",
    "    res = []\n",
    "    for it in range(0, len(tokens) -(n-1)):\n",
    "        res.append(\" \". join(tokens[it: it +n]))\n",
    "    return res\n",
    "\n",
    "def replace_prod_name_in_token(tokens, title_tokens):\n",
    "    return [_REPL_PROD_TITLE_ if token in title_tokens else token for token in tokens]\n",
    "        \n",
    "\n",
    "def replace_prod_names(tokens, prod_titles):\n",
    "    df_repl = pd.DataFrame(tokens, prod_titles)\n",
    "    for it , title in enumerate(prod_titles):\n",
    "        title_tokens = word_tokenize(title)\n",
    "        tokens[it] = replace_prod_name_in_token(tokens[it], title_tokens)\n",
    "        \n",
    "    return pd.Series(tokens)\n",
    "\n",
    "\n",
    "from nltk.stem.porter import *\n",
    "ps = PorterStemmer()\n",
    "def stem_doc(doc):\n",
    "    return [ps.stem(t) for t in doc]\n",
    "\n",
    "def score(df_train, n_gram=2, token_column=\"tokens\", repl_prod_name=False, do_stem=False):\n",
    "    eval_tokens = df_train[token_column].map(literal_eval)\n",
    "    if repl_prod_name:\n",
    "        #print(\"replace prod name\")\n",
    "        eval_tokens = replace_prod_names(eval_tokens.tolist(), df_train.product_title )\n",
    "    if do_stem:\n",
    "        eval_tokens = eval_tokens.apply(stem_doc)\n",
    "    #print(\"create ngrans\")\n",
    "    ngrams = eval_tokens.apply(lambda row: create_n_grams(row, n_gram))\n",
    "    #print(\"score\")\n",
    "    ratings = df_train.bool_rating.tolist()\n",
    "\n",
    "    pos_total = ratings.count(True)\n",
    "    neg_total = ratings.count(False)\n",
    "    \n",
    "    #print(\"pos total=\", pos_total, \" neg_total=\", neg_total)\n",
    "    scoring = {}\n",
    "    document_frequency = {}\n",
    "\n",
    "\n",
    "    for it, d in enumerate(ngrams):\n",
    "        rating = ratings[it]\n",
    "        for t in list(set(d)):\n",
    "            try: \n",
    "                scoring[t][rating] += 1\n",
    "            except:\n",
    "                scoring[t] = {True:0, False:0}\n",
    "                scoring[t][rating] += 1\n",
    "            \n",
    "            try: \n",
    "                document_frequency[t] += 1\n",
    "            except:\n",
    "                document_frequency[t] = 1\n",
    "    \n",
    "   # print(\"calculate scoring\")\n",
    "    \n",
    "    for t in scoring:\n",
    "        c_pos = scoring[t][True]\n",
    "        c_neg = scoring[t][False]\n",
    "        tdf = document_frequency[t]\n",
    "        t_len = len(t)\n",
    "        \n",
    "        s_int = 0 if c_pos + c_neg is 0 else (c_pos /(c_pos + c_neg)) - (c_neg / (c_pos + c_neg))\n",
    "        s_int_not_normalized = c_pos - c_neg\n",
    "        scoring[t][\"s_int\"] = s_int\n",
    "        scoring[t][\"s_int_nn\"] = s_int_not_normalized\n",
    "        \n",
    "        scoring[t][\"s_int_df\"] = s_int * tdf\n",
    "        scoring[t][\"s_int_df_len\"] = s_int * tdf * t_len\n",
    "        scoring[t][\"s_int_log(df)\"] = s_int * math.log(tdf)\n",
    "\n",
    "        scoring[t][\"s_int_len_log(df)\"] = s_int * t_len * math.log(tdf)\n",
    "        scoring[t][\"s_int_len\"] = s_int * t_len\n",
    "\n",
    "        scoring[t][\"s_int_df_log(len)\"] = s_int * tdf * math.log(t_len)\n",
    "        scoring[t][\"s_rand\"] = random() * 2 -1\n",
    "    \n",
    "    return scoring\n",
    "\n",
    "\n",
    "    \n",
    "\n",
    "    \n",
    "# scoring = score(df_train)   "
   ]
  },
  {
   "cell_type": "code",
   "execution_count": null,
   "metadata": {},
   "outputs": [],
   "source": [
    "def classify_one(tokens, scoring, scoring_method):\n",
    "    res = 0\n",
    "    for t in tokens:\n",
    "        try:\n",
    "            res += scoring[t][scoring_method]\n",
    "        except:\n",
    "            continue\n",
    "            print(\"did not found \",t)\n",
    "    return res\n",
    "\n",
    "def classify(df_test, scoring, n_gram=2, token_column=\"tokens\", repl_prod_name=False, scoring_method=\"int\", do_stem=False):\n",
    "    #print(\"eval tokens\")\n",
    "    eval_tokens = df_test[token_column].map(literal_eval)\n",
    "    if repl_prod_name:\n",
    "        #print(\"replace prod name\")\n",
    "        eval_tokens = replace_prod_names(eval_tokens.tolist(), df_test.product_title )\n",
    "    \n",
    "    if do_stem:\n",
    "        eval_tokens = eval_tokens.apply(stem_doc)\n",
    "\n",
    "\n",
    "    #print(\"create ngrans\")\n",
    "    ngrams = eval_tokens.apply(lambda row: create_n_grams(row, n_gram))\n",
    "    #print(\"score\")\n",
    "    bool_rating = df_test.bool_rating.tolist()\n",
    "    doc_scoring = ngrams.apply(lambda tokens: classify_one(tokens, scoring, scoring_method))\n",
    "    bool_scoring = doc_scoring.apply(lambda x: x > 0)\n",
    "    \n",
    "    #print(\"check results\")\n",
    "            \n",
    "    tp, tn, fp, fn = 0,0,0,0\n",
    "    for it, score in enumerate(bool_scoring.tolist()):\n",
    "        if score and bool_rating[it]:\n",
    "            tp += 1\n",
    "        elif score and not bool_rating[it]:\n",
    "            fp += 1\n",
    "        elif not score and bool_rating[it]:\n",
    "            fn += 1\n",
    "        elif not score and not bool_rating[it]:\n",
    "            tn += 1\n",
    "    #print(\"pos\", bool_scoring.value_counts())\n",
    "    #print(\"tp=\", tp,\"tn=\", tn,\"fp=\", fp,\"fn=\", fn)\n",
    "    #print(\"scoring=\", sum([tp, tn])/sum([tp, tn, fp, fn]))\n",
    "    return sum([tp, tn])/sum([tp, tn, fp, fn]), sum([tp, tn]), sum([fp, fn])\n",
    "    \n",
    "#classify(df_test, scoring)\n",
    "\n",
    "\n"
   ]
  },
  {
   "cell_type": "code",
   "execution_count": null,
   "metadata": {},
   "outputs": [],
   "source": [
    "from tqdm import tnrange, tqdm\n",
    "\n",
    "def test(datasets, n_gram=2, token_col=\"tokens\", repl_prod_name=False, scoring_method=\"s_int\", do_stem=False):\n",
    "    print(\"ngram=\", n_gram, \"token=\", token_col, \"repl_prod_name\", repl_prod_name, \"scoring_method\", scoring_method, \"do_stem\", do_stem)\n",
    "    resses = []\n",
    "    corrects = []\n",
    "    wrongs = []\n",
    "    scorings = []\n",
    "    for it, dataset in tqdm(enumerate(datasets), desc=\"iteration\"):\n",
    "        df_train = dataset[0]\n",
    "\n",
    "        #print(\"score\")\n",
    "        scoring = score(df_train, n_gram=n_gram, token_column=token_col, repl_prod_name=repl_prod_name, do_stem=do_stem) \n",
    "        scorings.append(scoring)\n",
    "        #print(\"classify\")\n",
    "    if type(scoring_method) is str:\n",
    "        print(\"single scoring\")\n",
    "        for it, dataset in tqdm(enumerate(datasets), desc=\"iteration\"):\n",
    "            df_test = dataset[1]\n",
    "            res, correct, wrong = classify(df_test, scoring, n_gram=n_gram, token_column=token_col, do_stem=do_stem, repl_prod_name=repl_prod_name, scoring_method=scoring_method)\n",
    "            resses.append(res)\n",
    "            corrects.append(correct)\n",
    "            wrongs.append(wrong)\n",
    "\n",
    "        print(\"total_res=\", sum(resses)/len(resses)) \n",
    "        print(\"alt_res=\", sum(corrects)/(sum(corrects) + sum(wrongs)))\n",
    "    \n",
    "        return sum(resses)/len(resses), sum(corrects)/(sum(corrects) + sum(wrongs))\n",
    "    else:\n",
    "        print(\"list scoring\")\n",
    "\n",
    "\n",
    "        results = {}\n",
    "        for scoring_method_it in scoring_method:\n",
    "            print(\"==== scoring method=\", scoring_method_it, \"======\")\n",
    "            for it, dataset in tqdm(enumerate(datasets), desc=\"iteration\"):\n",
    "                df_test = dataset[1]\n",
    "                res, correct, wrong = classify(df_test, scoring, n_gram=n_gram, token_column=token_col, do_stem=do_stem, repl_prod_name=repl_prod_name, scoring_method=scoring_method_it)\n",
    "                resses.append(res)\n",
    "                corrects.append(correct)\n",
    "                wrongs.append(wrong)\n",
    "            results[scoring_method_it] = {\"res\": resses, \"correct\": corrects, \"wrongs\": wrongs}\n",
    "\n",
    "            print(\"total_res=\", sum(resses)/len(resses)) \n",
    "            print(\"alt_res=\", sum(corrects)/(sum(corrects) + sum(wrongs)))\n",
    "        return results, None"
   ]
  },
  {
   "cell_type": "markdown",
   "metadata": {},
   "source": [
    "## Table 3"
   ]
  },
  {
   "cell_type": "code",
   "execution_count": null,
   "metadata": {},
   "outputs": [],
   "source": [
    "dataset = load_dataset(dataset_paths[0])\n",
    "dataset[0][0].columns"
   ]
  },
  {
   "cell_type": "code",
   "execution_count": null,
   "metadata": {},
   "outputs": [],
   "source": [
    "for dataset_path in dataset_paths: \n",
    "    print(\"===== DATASET: \", dataset_path, \"=======\")\n",
    "    for token_col in tokens_columns:\n",
    "        for n in [2,3]:\n",
    "            for repl_prod_name in [False, True]:\n",
    "                dataset = load_dataset(dataset_path)\n",
    "                print(\"token_col\", token_col)\n",
    "                test(dataset, n_gram=n, token_col=token_col, repl_prod_name=repl_prod_name)\n"
   ]
  },
  {
   "cell_type": "code",
   "execution_count": null,
   "metadata": {},
   "outputs": [],
   "source": []
  },
  {
   "cell_type": "markdown",
   "metadata": {},
   "source": [
    "## Table 4"
   ]
  },
  {
   "cell_type": "code",
   "execution_count": null,
   "metadata": {},
   "outputs": [],
   "source": [
    "for dataset_path in dataset_paths: \n",
    "    print(\"===== DATASET: \", dataset_path, \"=======\")\n",
    "    for do_stem in [True, False]:\n",
    "        dataset = load_dataset(dataset_path)\n",
    "        test(dataset, do_stem=do_stem, n_gram=1)\n",
    "\n"
   ]
  },
  {
   "cell_type": "markdown",
   "metadata": {},
   "source": [
    "## Table 6"
   ]
  },
  {
   "cell_type": "code",
   "execution_count": null,
   "metadata": {},
   "outputs": [],
   "source": [
    "for dataset_path in dataset_paths: \n",
    "    print(\"===== DATASET: \", dataset_path, \"=======\")\n",
    "\n",
    "    scoring_methods = [\"s_int\", \"s_int_nn\", \"s_int_df\", \"s_int_df_len\", \"s_int_log(df)\", \"s_int_len\", \"s_int_len_log(df)\", \"s_int_df_log(len)\"]\n",
    "    dataset = load_dataset(dataset_path)\n",
    "    test(dataset, n_gram=3, token_col=\"tokens\", repl_prod_name=repl_prod_name, scoring_method=scoring_methods)\n",
    "\n"
   ]
  },
  {
   "cell_type": "markdown",
   "metadata": {},
   "source": [
    "# Additional Experiment: Comparing n-Grams"
   ]
  },
  {
   "cell_type": "code",
   "execution_count": null,
   "metadata": {},
   "outputs": [],
   "source": [
    "for dataset_path in dataset_paths: \n",
    "    print(\"===== DATASET: \", dataset_path, \"=======\")\n",
    "    for n in [1,2,3,4,5]:\n",
    "        dataset = load_dataset(dataset_path)\n",
    "        test(dataset, n_gram=n)\n",
    "\n"
   ]
  },
  {
   "cell_type": "code",
   "execution_count": null,
   "metadata": {},
   "outputs": [],
   "source": []
  }
 ],
 "metadata": {
  "kernelspec": {
   "display_name": "Python 3",
   "language": "python",
   "name": "python3"
  },
  "language_info": {
   "codemirror_mode": {
    "name": "ipython",
    "version": 3
   },
   "file_extension": ".py",
   "mimetype": "text/x-python",
   "name": "python",
   "nbconvert_exporter": "python",
   "pygments_lexer": "ipython3",
   "version": "3.7.4"
  }
 },
 "nbformat": 4,
 "nbformat_minor": 2
}
