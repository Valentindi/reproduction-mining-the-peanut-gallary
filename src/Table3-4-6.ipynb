{
 "cells": [
  {
   "cell_type": "markdown",
   "metadata": {},
   "source": [
    "# Reproduktion 'Mining the Peanut Gallary'"
   ]
  },
  {
   "cell_type": "markdown",
   "metadata": {},
   "source": [
    "## Some Helper Functions"
   ]
  },
  {
   "cell_type": "code",
   "execution_count": 10,
   "metadata": {},
   "outputs": [],
   "source": [
    "from builtins import enumerate, len\n",
    "import pandas as pd\n",
    "from ast import literal_eval\n",
    "from copy import copy"
   ]
  },
  {
   "cell_type": "code",
   "execution_count": 11,
   "metadata": {},
   "outputs": [],
   "source": [
    "dataset_paths = [ \"../data/df_test_1.csv\", \"../data/df_test_2.csv\"]\n",
    "ngrams = [2,3]\n",
    "repl_prod_name = [True, False]\n",
    "tokens = [\"common_tokens\", \"tokens\"]"
   ]
  },
  {
   "cell_type": "code",
   "execution_count": 12,
   "metadata": {},
   "outputs": [],
   "source": [
    "def load_dataset(path):\n",
    "    df = pd.read_csv(path)\n",
    "\n",
    "    train_idxes = df.test_idx.unique()\n",
    "    print(train_idxes)\n",
    "\n",
    "    res = []\n",
    "\n",
    "    for train_idx in train_idxes:\n",
    "        mask = df.test_idx == train_idx\n",
    "\n",
    "        df_train = pd.read_csv(path)\n",
    "        df_test = copy(df_train)\n",
    "\n",
    "        df_train = df_train[~mask]\n",
    "        df_test = df_test[mask]\n",
    "\n",
    "        res += [(df_train, df_test)]\n",
    "\n",
    "    return res\n",
    "\n",
    "\n"
   ]
  },
  {
   "cell_type": "markdown",
   "metadata": {},
   "source": [
    "## scoring"
   ]
  },
  {
   "cell_type": "code",
   "execution_count": 13,
   "metadata": {},
   "outputs": [],
   "source": [
    "from nltk import word_tokenize\n",
    "import math\n",
    "from random import random\n",
    "\n",
    "\n",
    "_REPL_PROD_TITLE_ = \"_REPL_PROD_TITLE\"\n",
    "def create_n_grams(tokens, n):\n",
    "    res = []\n",
    "    for it in range(0, len(tokens) -(n-1)):\n",
    "        res.append(\" \". join(tokens[it: it +n]))\n",
    "    return res\n",
    "\n",
    "def replace_prod_name_in_token(tokens, title_tokens):\n",
    "    return [_REPL_PROD_TITLE_ if token in title_tokens else token for token in tokens]\n",
    "        \n",
    "\n",
    "def replace_prod_names(tokens, prod_titles):\n",
    "    df_repl = pd.DataFrame(tokens, prod_titles)\n",
    "    for it , title in enumerate(prod_titles):\n",
    "        title_tokens = word_tokenize(title)\n",
    "        tokens[it] = replace_prod_name_in_token(tokens[it], title_tokens)\n",
    "        \n",
    "    return pd.Series(tokens)\n",
    "\n",
    "\n",
    "from nltk.stem.porter import *\n",
    "ps = PorterStemmer()\n",
    "def stem_doc(doc):\n",
    "    return [ps.stem(t) for t in doc]\n",
    "\n",
    "def score(df_train, n_gram=2, token_column=\"tokens\", repl_prod_name=False, do_stem=False):\n",
    "    eval_tokens = df_train[token_column].map(literal_eval)\n",
    "    if repl_prod_name:\n",
    "        #print(\"replace prod name\")\n",
    "        eval_tokens = replace_prod_names(eval_tokens.tolist(), df_train.product_title )\n",
    "    if do_stem:\n",
    "        eval_tokens = eval_tokens.apply(stem_doc)\n",
    "    #print(\"create ngrans\")\n",
    "    ngrams = eval_tokens.apply(lambda row: create_n_grams(row, n_gram))\n",
    "    #print(\"score\")\n",
    "    ratings = df_train.bool_rating.tolist()\n",
    "\n",
    "    pos_total = ratings.count(True)\n",
    "    neg_total = ratings.count(False)\n",
    "    \n",
    "    #print(\"pos total=\", pos_total, \" neg_total=\", neg_total)\n",
    "    scoring = {}\n",
    "    document_frequency = {}\n",
    "\n",
    "\n",
    "    for it, d in enumerate(ngrams):\n",
    "        rating = ratings[it]\n",
    "        for t in list(set(d)):\n",
    "            try: \n",
    "                scoring[t][rating] += 1\n",
    "            except:\n",
    "                scoring[t] = {True:0, False:0}\n",
    "                scoring[t][rating] += 1\n",
    "            \n",
    "            try: \n",
    "                document_frequency[t] += 1\n",
    "            except:\n",
    "                document_frequency[t] = 1\n",
    "    \n",
    "   # print(\"calculate scoring\")\n",
    "    \n",
    "    for t in scoring:\n",
    "        c_pos = scoring[t][True]\n",
    "        c_neg = scoring[t][False]\n",
    "        tdf = document_frequency[t]\n",
    "        t_len = len(t)\n",
    "        \n",
    "        s_int = 0 if c_pos + c_neg is 0 else (c_pos /(c_pos + c_neg)) - (c_neg / (c_pos + c_neg))\n",
    "        s_int_not_normalized = c_pos - c_neg\n",
    "        scoring[t][\"s_int\"] = s_int\n",
    "        scoring[t][\"s_int_nn\"] = s_int_not_normalized\n",
    "        \n",
    "        scoring[t][\"s_int_df\"] = s_int * tdf\n",
    "        scoring[t][\"s_int_df_len\"] = s_int * tdf * t_len\n",
    "        scoring[t][\"s_int_log(df)\"] = s_int * math.log(tdf)\n",
    "\n",
    "        scoring[t][\"s_int_len_log(df)\"] = s_int * t_len * math.log(tdf)\n",
    "        scoring[t][\"s_int_df_log(len)\"] = s_int * tdf * math.log(t_len)\n",
    "        scoring[t][\"s_rand\"] = random() * 2 -1\n",
    "    \n",
    "    return scoring\n",
    "\n",
    "\n",
    "    \n",
    "\n",
    "    \n",
    "# scoring = score(df_train)   "
   ]
  },
  {
   "cell_type": "code",
   "execution_count": 14,
   "metadata": {},
   "outputs": [],
   "source": [
    "def classify_one(tokens, scoring, scoring_method):\n",
    "    res = 0\n",
    "    for t in tokens:\n",
    "        try:\n",
    "            res += scoring[t][scoring_method]\n",
    "        except:\n",
    "            continue\n",
    "            print(\"did not found \",t)\n",
    "    return res\n",
    "\n",
    "def classify(df_test, scoring, n_gram=2, token_column=\"tokens\", repl_prod_name=False, scoring_method=\"int\", do_stem=False):\n",
    "    #print(\"eval tokens\")\n",
    "    eval_tokens = df_test[token_column].map(literal_eval)\n",
    "    if repl_prod_name:\n",
    "        #print(\"replace prod name\")\n",
    "        eval_tokens = replace_prod_names(eval_tokens.tolist(), df_test.product_title )\n",
    "    \n",
    "    if do_stem:\n",
    "        eval_tokens = eval_tokens.apply(stem_doc)\n",
    "\n",
    "\n",
    "    #print(\"create ngrans\")\n",
    "    ngrams = eval_tokens.apply(lambda row: create_n_grams(row, n_gram))\n",
    "    #print(\"score\")\n",
    "    bool_rating = df_test.bool_rating.tolist()\n",
    "    doc_scoring = ngrams.apply(lambda tokens: classify_one(tokens, scoring, scoring_method))\n",
    "    bool_scoring = doc_scoring.apply(lambda x: x > 0)\n",
    "    \n",
    "    #print(\"check results\")\n",
    "            \n",
    "    tp, tn, fp, fn = 0,0,0,0\n",
    "    for it, score in enumerate(bool_scoring.tolist()):\n",
    "        if score and bool_rating[it]:\n",
    "            tp += 1\n",
    "        elif score and not bool_rating[it]:\n",
    "            fp += 1\n",
    "        elif not score and bool_rating[it]:\n",
    "            fn += 1\n",
    "        elif not score and not bool_rating[it]:\n",
    "            tn += 1\n",
    "    #print(\"pos\", bool_scoring.value_counts())\n",
    "    #print(\"tp=\", tp,\"tn=\", tn,\"fp=\", fp,\"fn=\", fn)\n",
    "    #print(\"scoring=\", sum([tp, tn])/sum([tp, tn, fp, fn]))\n",
    "    return sum([tp, tn])/sum([tp, tn, fp, fn]), sum([tp, tn]), sum([fp, fn])\n",
    "    \n",
    "#classify(df_test, scoring)\n",
    "\n",
    "\n"
   ]
  },
  {
   "cell_type": "code",
   "execution_count": 15,
   "metadata": {},
   "outputs": [],
   "source": [
    "from tqdm import tnrange, tqdm\n",
    "\n",
    "def test(datasets, n_gram=2, token_col=\"tokens\", repl_prod_name=False, scoring_method=\"s_int\", do_stem=False):\n",
    "    print(\"ngram=\", n_gram, \"token=\", token_col, \"repl_prod_name\", repl_prod_name, \"scoring_method\", scoring_method, \"do_stem\", do_stem)\n",
    "    resses = []\n",
    "    corrects = []\n",
    "    wrongs = []\n",
    "    scorings = []\n",
    "    for it, dataset in tqdm(enumerate(datasets), desc=\"iteration\"):\n",
    "        df_train = dataset[0]\n",
    "\n",
    "        #print(\"score\")\n",
    "        scoring = score(df_train, n_gram=n_gram, token_column=token_col, repl_prod_name=repl_prod_name, do_stem=do_stem) \n",
    "        scorings.append(scoring)\n",
    "        #print(\"classify\")\n",
    "    if type(scoring_method) is str:\n",
    "        print(\"single scoring\")\n",
    "        for it, dataset in tqdm(enumerate(datasets), desc=\"iteration\"):\n",
    "            df_test = dataset[1]\n",
    "            res, correct, wrong = classify(df_test, scoring, n_gram=n_gram, token_column=token_col, do_stem=do_stem, repl_prod_name=repl_prod_name, scoring_method=scoring_method)\n",
    "            resses.append(res)\n",
    "            corrects.append(correct)\n",
    "            wrongs.append(wrong)\n",
    "\n",
    "        print(\"total_res=\", sum(resses)/len(resses)) \n",
    "        print(\"alt_res=\", sum(corrects)/(sum(corrects) + sum(wrongs)))\n",
    "    \n",
    "        return sum(resses)/len(resses), sum(corrects)/(sum(corrects) + sum(wrongs))\n",
    "    else:\n",
    "        print(\"list scoring\")\n",
    "\n",
    "\n",
    "        results = {}\n",
    "        for scoring_method_it in scoring_method:\n",
    "            print(\"==== scoring method=\", scoring_method_it, \"======\")\n",
    "            for it, dataset in tqdm(enumerate(datasets), desc=\"iteration\"):\n",
    "                df_test = dataset[1]\n",
    "                res, correct, wrong = classify(df_test, scoring, n_gram=n_gram, token_column=token_col, do_stem=do_stem, repl_prod_name=repl_prod_name, scoring_method=scoring_method_it)\n",
    "                resses.append(res)\n",
    "                corrects.append(correct)\n",
    "                wrongs.append(wrong)\n",
    "            results[scoring_method_it] = {\"res\": resses, \"correct\": corrects, \"wrongs\": wrongs}\n",
    "\n",
    "            print(\"total_res=\", sum(resses)/len(resses)) \n",
    "            print(\"alt_res=\", sum(corrects)/(sum(corrects) + sum(wrongs)))\n",
    "        return results, None"
   ]
  },
  {
   "cell_type": "markdown",
   "metadata": {},
   "source": [
    "## Table 3"
   ]
  },
  {
   "cell_type": "code",
   "execution_count": 16,
   "metadata": {},
   "outputs": [
    {
     "name": "stdout",
     "output_type": "stream",
     "text": [
      "===== DATASET:  ../data/df_test_1.csv =======\n"
     ]
    },
    {
     "ename": "FileNotFoundError",
     "evalue": "[Errno 2] File b'../data/df_test_1.csv' does not exist: b'../data/df_test_1.csv'",
     "output_type": "error",
     "traceback": [
      "\u001b[0;31m---------------------------------------------------------------------------\u001b[0m",
      "\u001b[0;31mFileNotFoundError\u001b[0m                         Traceback (most recent call last)",
      "\u001b[0;32m<ipython-input-16-32c3fd16a031>\u001b[0m in \u001b[0;36m<module>\u001b[0;34m\u001b[0m\n\u001b[1;32m      4\u001b[0m         \u001b[0;32mfor\u001b[0m \u001b[0mn\u001b[0m \u001b[0;32min\u001b[0m \u001b[0;34m[\u001b[0m\u001b[0;36m2\u001b[0m\u001b[0;34m,\u001b[0m\u001b[0;36m3\u001b[0m\u001b[0;34m]\u001b[0m\u001b[0;34m:\u001b[0m\u001b[0;34m\u001b[0m\u001b[0;34m\u001b[0m\u001b[0m\n\u001b[1;32m      5\u001b[0m             \u001b[0;32mfor\u001b[0m \u001b[0mrepl_prod_name\u001b[0m \u001b[0;32min\u001b[0m \u001b[0;34m[\u001b[0m\u001b[0;32mFalse\u001b[0m\u001b[0;34m,\u001b[0m \u001b[0;32mTrue\u001b[0m\u001b[0;34m]\u001b[0m\u001b[0;34m:\u001b[0m\u001b[0;34m\u001b[0m\u001b[0;34m\u001b[0m\u001b[0m\n\u001b[0;32m----> 6\u001b[0;31m                 \u001b[0mdataset\u001b[0m \u001b[0;34m=\u001b[0m \u001b[0mload_dataset\u001b[0m\u001b[0;34m(\u001b[0m\u001b[0mdataset_path\u001b[0m\u001b[0;34m)\u001b[0m\u001b[0;34m\u001b[0m\u001b[0;34m\u001b[0m\u001b[0m\n\u001b[0m\u001b[1;32m      7\u001b[0m                 \u001b[0mprint\u001b[0m\u001b[0;34m(\u001b[0m\u001b[0;34m\"token_col\"\u001b[0m\u001b[0;34m,\u001b[0m \u001b[0mtoken_col\u001b[0m\u001b[0;34m)\u001b[0m\u001b[0;34m\u001b[0m\u001b[0;34m\u001b[0m\u001b[0m\n\u001b[1;32m      8\u001b[0m                 \u001b[0mtest\u001b[0m\u001b[0;34m(\u001b[0m\u001b[0mdataset\u001b[0m\u001b[0;34m,\u001b[0m \u001b[0mn_gram\u001b[0m\u001b[0;34m=\u001b[0m\u001b[0mn\u001b[0m\u001b[0;34m,\u001b[0m \u001b[0mtoken_col\u001b[0m\u001b[0;34m=\u001b[0m\u001b[0mtoken_col\u001b[0m\u001b[0;34m,\u001b[0m \u001b[0mrepl_prod_name\u001b[0m\u001b[0;34m=\u001b[0m\u001b[0mrepl_prod_name\u001b[0m\u001b[0;34m)\u001b[0m\u001b[0;34m\u001b[0m\u001b[0;34m\u001b[0m\u001b[0m\n",
      "\u001b[0;32m<ipython-input-12-2bce20dcc178>\u001b[0m in \u001b[0;36mload_dataset\u001b[0;34m(path)\u001b[0m\n\u001b[1;32m      1\u001b[0m \u001b[0;32mdef\u001b[0m \u001b[0mload_dataset\u001b[0m\u001b[0;34m(\u001b[0m\u001b[0mpath\u001b[0m\u001b[0;34m)\u001b[0m\u001b[0;34m:\u001b[0m\u001b[0;34m\u001b[0m\u001b[0;34m\u001b[0m\u001b[0m\n\u001b[0;32m----> 2\u001b[0;31m     \u001b[0mdf\u001b[0m \u001b[0;34m=\u001b[0m \u001b[0mpd\u001b[0m\u001b[0;34m.\u001b[0m\u001b[0mread_csv\u001b[0m\u001b[0;34m(\u001b[0m\u001b[0mpath\u001b[0m\u001b[0;34m)\u001b[0m\u001b[0;34m\u001b[0m\u001b[0;34m\u001b[0m\u001b[0m\n\u001b[0m\u001b[1;32m      3\u001b[0m \u001b[0;34m\u001b[0m\u001b[0m\n\u001b[1;32m      4\u001b[0m     \u001b[0mtrain_idxes\u001b[0m \u001b[0;34m=\u001b[0m \u001b[0mdf\u001b[0m\u001b[0;34m.\u001b[0m\u001b[0mtest_idx\u001b[0m\u001b[0;34m.\u001b[0m\u001b[0munique\u001b[0m\u001b[0;34m(\u001b[0m\u001b[0;34m)\u001b[0m\u001b[0;34m\u001b[0m\u001b[0;34m\u001b[0m\u001b[0m\n\u001b[1;32m      5\u001b[0m     \u001b[0mprint\u001b[0m\u001b[0;34m(\u001b[0m\u001b[0mtrain_idxes\u001b[0m\u001b[0;34m)\u001b[0m\u001b[0;34m\u001b[0m\u001b[0;34m\u001b[0m\u001b[0m\n",
      "\u001b[0;32m~/Library/Python/3.7/lib/python/site-packages/pandas/io/parsers.py\u001b[0m in \u001b[0;36mparser_f\u001b[0;34m(filepath_or_buffer, sep, delimiter, header, names, index_col, usecols, squeeze, prefix, mangle_dupe_cols, dtype, engine, converters, true_values, false_values, skipinitialspace, skiprows, skipfooter, nrows, na_values, keep_default_na, na_filter, verbose, skip_blank_lines, parse_dates, infer_datetime_format, keep_date_col, date_parser, dayfirst, iterator, chunksize, compression, thousands, decimal, lineterminator, quotechar, quoting, doublequote, escapechar, comment, encoding, dialect, tupleize_cols, error_bad_lines, warn_bad_lines, delim_whitespace, low_memory, memory_map, float_precision)\u001b[0m\n\u001b[1;32m    700\u001b[0m                     skip_blank_lines=skip_blank_lines)\n\u001b[1;32m    701\u001b[0m \u001b[0;34m\u001b[0m\u001b[0m\n\u001b[0;32m--> 702\u001b[0;31m         \u001b[0;32mreturn\u001b[0m \u001b[0m_read\u001b[0m\u001b[0;34m(\u001b[0m\u001b[0mfilepath_or_buffer\u001b[0m\u001b[0;34m,\u001b[0m \u001b[0mkwds\u001b[0m\u001b[0;34m)\u001b[0m\u001b[0;34m\u001b[0m\u001b[0;34m\u001b[0m\u001b[0m\n\u001b[0m\u001b[1;32m    703\u001b[0m \u001b[0;34m\u001b[0m\u001b[0m\n\u001b[1;32m    704\u001b[0m     \u001b[0mparser_f\u001b[0m\u001b[0;34m.\u001b[0m\u001b[0m__name__\u001b[0m \u001b[0;34m=\u001b[0m \u001b[0mname\u001b[0m\u001b[0;34m\u001b[0m\u001b[0;34m\u001b[0m\u001b[0m\n",
      "\u001b[0;32m~/Library/Python/3.7/lib/python/site-packages/pandas/io/parsers.py\u001b[0m in \u001b[0;36m_read\u001b[0;34m(filepath_or_buffer, kwds)\u001b[0m\n\u001b[1;32m    427\u001b[0m \u001b[0;34m\u001b[0m\u001b[0m\n\u001b[1;32m    428\u001b[0m     \u001b[0;31m# Create the parser.\u001b[0m\u001b[0;34m\u001b[0m\u001b[0;34m\u001b[0m\u001b[0;34m\u001b[0m\u001b[0m\n\u001b[0;32m--> 429\u001b[0;31m     \u001b[0mparser\u001b[0m \u001b[0;34m=\u001b[0m \u001b[0mTextFileReader\u001b[0m\u001b[0;34m(\u001b[0m\u001b[0mfilepath_or_buffer\u001b[0m\u001b[0;34m,\u001b[0m \u001b[0;34m**\u001b[0m\u001b[0mkwds\u001b[0m\u001b[0;34m)\u001b[0m\u001b[0;34m\u001b[0m\u001b[0;34m\u001b[0m\u001b[0m\n\u001b[0m\u001b[1;32m    430\u001b[0m \u001b[0;34m\u001b[0m\u001b[0m\n\u001b[1;32m    431\u001b[0m     \u001b[0;32mif\u001b[0m \u001b[0mchunksize\u001b[0m \u001b[0;32mor\u001b[0m \u001b[0miterator\u001b[0m\u001b[0;34m:\u001b[0m\u001b[0;34m\u001b[0m\u001b[0;34m\u001b[0m\u001b[0m\n",
      "\u001b[0;32m~/Library/Python/3.7/lib/python/site-packages/pandas/io/parsers.py\u001b[0m in \u001b[0;36m__init__\u001b[0;34m(self, f, engine, **kwds)\u001b[0m\n\u001b[1;32m    893\u001b[0m             \u001b[0mself\u001b[0m\u001b[0;34m.\u001b[0m\u001b[0moptions\u001b[0m\u001b[0;34m[\u001b[0m\u001b[0;34m'has_index_names'\u001b[0m\u001b[0;34m]\u001b[0m \u001b[0;34m=\u001b[0m \u001b[0mkwds\u001b[0m\u001b[0;34m[\u001b[0m\u001b[0;34m'has_index_names'\u001b[0m\u001b[0;34m]\u001b[0m\u001b[0;34m\u001b[0m\u001b[0;34m\u001b[0m\u001b[0m\n\u001b[1;32m    894\u001b[0m \u001b[0;34m\u001b[0m\u001b[0m\n\u001b[0;32m--> 895\u001b[0;31m         \u001b[0mself\u001b[0m\u001b[0;34m.\u001b[0m\u001b[0m_make_engine\u001b[0m\u001b[0;34m(\u001b[0m\u001b[0mself\u001b[0m\u001b[0;34m.\u001b[0m\u001b[0mengine\u001b[0m\u001b[0;34m)\u001b[0m\u001b[0;34m\u001b[0m\u001b[0;34m\u001b[0m\u001b[0m\n\u001b[0m\u001b[1;32m    896\u001b[0m \u001b[0;34m\u001b[0m\u001b[0m\n\u001b[1;32m    897\u001b[0m     \u001b[0;32mdef\u001b[0m \u001b[0mclose\u001b[0m\u001b[0;34m(\u001b[0m\u001b[0mself\u001b[0m\u001b[0;34m)\u001b[0m\u001b[0;34m:\u001b[0m\u001b[0;34m\u001b[0m\u001b[0;34m\u001b[0m\u001b[0m\n",
      "\u001b[0;32m~/Library/Python/3.7/lib/python/site-packages/pandas/io/parsers.py\u001b[0m in \u001b[0;36m_make_engine\u001b[0;34m(self, engine)\u001b[0m\n\u001b[1;32m   1120\u001b[0m     \u001b[0;32mdef\u001b[0m \u001b[0m_make_engine\u001b[0m\u001b[0;34m(\u001b[0m\u001b[0mself\u001b[0m\u001b[0;34m,\u001b[0m \u001b[0mengine\u001b[0m\u001b[0;34m=\u001b[0m\u001b[0;34m'c'\u001b[0m\u001b[0;34m)\u001b[0m\u001b[0;34m:\u001b[0m\u001b[0;34m\u001b[0m\u001b[0;34m\u001b[0m\u001b[0m\n\u001b[1;32m   1121\u001b[0m         \u001b[0;32mif\u001b[0m \u001b[0mengine\u001b[0m \u001b[0;34m==\u001b[0m \u001b[0;34m'c'\u001b[0m\u001b[0;34m:\u001b[0m\u001b[0;34m\u001b[0m\u001b[0;34m\u001b[0m\u001b[0m\n\u001b[0;32m-> 1122\u001b[0;31m             \u001b[0mself\u001b[0m\u001b[0;34m.\u001b[0m\u001b[0m_engine\u001b[0m \u001b[0;34m=\u001b[0m \u001b[0mCParserWrapper\u001b[0m\u001b[0;34m(\u001b[0m\u001b[0mself\u001b[0m\u001b[0;34m.\u001b[0m\u001b[0mf\u001b[0m\u001b[0;34m,\u001b[0m \u001b[0;34m**\u001b[0m\u001b[0mself\u001b[0m\u001b[0;34m.\u001b[0m\u001b[0moptions\u001b[0m\u001b[0;34m)\u001b[0m\u001b[0;34m\u001b[0m\u001b[0;34m\u001b[0m\u001b[0m\n\u001b[0m\u001b[1;32m   1123\u001b[0m         \u001b[0;32melse\u001b[0m\u001b[0;34m:\u001b[0m\u001b[0;34m\u001b[0m\u001b[0;34m\u001b[0m\u001b[0m\n\u001b[1;32m   1124\u001b[0m             \u001b[0;32mif\u001b[0m \u001b[0mengine\u001b[0m \u001b[0;34m==\u001b[0m \u001b[0;34m'python'\u001b[0m\u001b[0;34m:\u001b[0m\u001b[0;34m\u001b[0m\u001b[0;34m\u001b[0m\u001b[0m\n",
      "\u001b[0;32m~/Library/Python/3.7/lib/python/site-packages/pandas/io/parsers.py\u001b[0m in \u001b[0;36m__init__\u001b[0;34m(self, src, **kwds)\u001b[0m\n\u001b[1;32m   1851\u001b[0m         \u001b[0mkwds\u001b[0m\u001b[0;34m[\u001b[0m\u001b[0;34m'usecols'\u001b[0m\u001b[0;34m]\u001b[0m \u001b[0;34m=\u001b[0m \u001b[0mself\u001b[0m\u001b[0;34m.\u001b[0m\u001b[0musecols\u001b[0m\u001b[0;34m\u001b[0m\u001b[0;34m\u001b[0m\u001b[0m\n\u001b[1;32m   1852\u001b[0m \u001b[0;34m\u001b[0m\u001b[0m\n\u001b[0;32m-> 1853\u001b[0;31m         \u001b[0mself\u001b[0m\u001b[0;34m.\u001b[0m\u001b[0m_reader\u001b[0m \u001b[0;34m=\u001b[0m \u001b[0mparsers\u001b[0m\u001b[0;34m.\u001b[0m\u001b[0mTextReader\u001b[0m\u001b[0;34m(\u001b[0m\u001b[0msrc\u001b[0m\u001b[0;34m,\u001b[0m \u001b[0;34m**\u001b[0m\u001b[0mkwds\u001b[0m\u001b[0;34m)\u001b[0m\u001b[0;34m\u001b[0m\u001b[0;34m\u001b[0m\u001b[0m\n\u001b[0m\u001b[1;32m   1854\u001b[0m         \u001b[0mself\u001b[0m\u001b[0;34m.\u001b[0m\u001b[0munnamed_cols\u001b[0m \u001b[0;34m=\u001b[0m \u001b[0mself\u001b[0m\u001b[0;34m.\u001b[0m\u001b[0m_reader\u001b[0m\u001b[0;34m.\u001b[0m\u001b[0munnamed_cols\u001b[0m\u001b[0;34m\u001b[0m\u001b[0;34m\u001b[0m\u001b[0m\n\u001b[1;32m   1855\u001b[0m \u001b[0;34m\u001b[0m\u001b[0m\n",
      "\u001b[0;32mpandas/_libs/parsers.pyx\u001b[0m in \u001b[0;36mpandas._libs.parsers.TextReader.__cinit__\u001b[0;34m()\u001b[0m\n",
      "\u001b[0;32mpandas/_libs/parsers.pyx\u001b[0m in \u001b[0;36mpandas._libs.parsers.TextReader._setup_parser_source\u001b[0;34m()\u001b[0m\n",
      "\u001b[0;31mFileNotFoundError\u001b[0m: [Errno 2] File b'../data/df_test_1.csv' does not exist: b'../data/df_test_1.csv'"
     ]
    }
   ],
   "source": [
    "for dataset_path in dataset_paths: \n",
    "    print(\"===== DATASET: \", dataset_path, \"=======\")\n",
    "    for token_col in [\"tokens\", \"common_tokens\"]:\n",
    "        for n in [2,3]:\n",
    "            for repl_prod_name in [False, True]:\n",
    "                dataset = load_dataset(dataset_path)\n",
    "                print(\"token_col\", token_col)\n",
    "                test(dataset, n_gram=n, token_col=token_col, repl_prod_name=repl_prod_name)\n"
   ]
  },
  {
   "cell_type": "markdown",
   "metadata": {},
   "source": [
    "## Table 4"
   ]
  },
  {
   "cell_type": "code",
   "execution_count": null,
   "metadata": {},
   "outputs": [],
   "source": [
    "for dataset_path in dataset_paths: \n",
    "    print(\"===== DATASET: \", dataset_path, \"=======\")\n",
    "    for do_stem in [True, False]:\n",
    "        dataset = load_dataset(dataset_path)\n",
    "        test(dataset, do_stem=do_stem, n_gram=1)\n",
    "\n"
   ]
  },
  {
   "cell_type": "markdown",
   "metadata": {},
   "source": [
    "## Table 6"
   ]
  },
  {
   "cell_type": "code",
   "execution_count": null,
   "metadata": {},
   "outputs": [],
   "source": [
    "for dataset_path in dataset_paths: \n",
    "    print(\"===== DATASET: \", dataset_path, \"=======\")\n",
    "\n",
    "    scoring_methods = [\"s_int\", \"s_rand\", \"s_int_df\", \"s_int_df_len\", \"s_int_log(df)\", \"s_int_len_log(df)\", \"s_int_df_log(len)\"]\n",
    "    dataset = load_dataset(dataset_path)\n",
    "    test(dataset, n_gram=3, token_col=\"tokens\", repl_prod_name=repl_prod_name, scoring_method=scoring_methods)\n",
    "\n"
   ]
  },
  {
   "cell_type": "code",
   "execution_count": null,
   "metadata": {},
   "outputs": [],
   "source": []
  }
 ],
 "metadata": {
  "kernelspec": {
   "display_name": "Python 3",
   "language": "python",
   "name": "python3"
  },
  "language_info": {
   "codemirror_mode": {
    "name": "ipython",
    "version": 3
   },
   "file_extension": ".py",
   "mimetype": "text/x-python",
   "name": "python",
   "nbconvert_exporter": "python",
   "pygments_lexer": "ipython3",
   "version": "3.7.4"
  }
 },
 "nbformat": 4,
 "nbformat_minor": 2
}
