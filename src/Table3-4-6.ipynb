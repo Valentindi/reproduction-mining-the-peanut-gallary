{
 "cells": [
  {
   "cell_type": "markdown",
   "metadata": {},
   "source": [
    "# Reproduktion 'Mining the Peanut Gallary'"
   ]
  },
  {
   "cell_type": "markdown",
   "metadata": {},
   "source": [
    "## Some Helper Functions"
   ]
  },
  {
   "cell_type": "code",
   "execution_count": 1,
   "metadata": {},
   "outputs": [],
   "source": [
    "from builtins import enumerate, len\n",
    "import pandas as pd\n",
    "from ast import literal_eval\n",
    "from copy import copy"
   ]
  },
  {
   "cell_type": "code",
   "execution_count": 2,
   "metadata": {},
   "outputs": [],
   "source": [
    "dataset_paths = [ \"../data/df_test_1.csv\", \"../data/df_test_2.csv\"]\n",
    "ngrams = [2,3]\n",
    "repl_prod_name = [True, False]\n",
    "tokens = [\"common_tokens\", \"tokens\"]"
   ]
  },
  {
   "cell_type": "code",
   "execution_count": 3,
   "metadata": {},
   "outputs": [],
   "source": [
    "def load_dataset(path):\n",
    "    df = pd.read_csv(path)\n",
    "\n",
    "    train_idxes = df.test_idx.unique()\n",
    "    print(train_idxes)\n",
    "\n",
    "    res = []\n",
    "\n",
    "    for train_idx in train_idxes:\n",
    "        mask = df.test_idx == train_idx\n",
    "\n",
    "        df_train = pd.read_csv(path)\n",
    "        df_test = copy(df_train)\n",
    "\n",
    "        df_train = df_train[~mask]\n",
    "        df_test = df_test[mask]\n",
    "\n",
    "        res += [(df_train, df_test)]\n",
    "\n",
    "    return res\n",
    "\n",
    "\n"
   ]
  },
  {
   "cell_type": "markdown",
   "metadata": {},
   "source": [
    "## scoring"
   ]
  },
  {
   "cell_type": "code",
   "execution_count": 4,
   "metadata": {},
   "outputs": [],
   "source": [
    "from nltk import word_tokenize\n",
    "import math\n",
    "from random import random\n",
    "\n",
    "\n",
    "_REPL_PROD_TITLE_ = \"_REPL_PROD_TITLE\"\n",
    "def create_n_grams(tokens, n):\n",
    "    res = []\n",
    "    for it in range(0, len(tokens) -(n-1)):\n",
    "        res.append(\" \". join(tokens[it: it +n]))\n",
    "    return res\n",
    "\n",
    "def replace_prod_name_in_token(tokens, title_tokens):\n",
    "    return [_REPL_PROD_TITLE_ if token in title_tokens else token for token in tokens]\n",
    "        \n",
    "\n",
    "def replace_prod_names(tokens, prod_titles):\n",
    "    df_repl = pd.DataFrame(tokens, prod_titles)\n",
    "    for it , title in enumerate(prod_titles):\n",
    "        title_tokens = word_tokenize(title)\n",
    "        tokens[it] = replace_prod_name_in_token(tokens[it], title_tokens)\n",
    "        \n",
    "    return pd.Series(tokens)\n",
    "\n",
    "\n",
    "from nltk.stem.porter import *\n",
    "ps = PorterStemmer()\n",
    "def stem_doc(doc):\n",
    "    return [ps.stem(t) for t in doc]\n",
    "\n",
    "def score(df_train, n_gram=2, token_column=\"tokens\", repl_prod_name=False, do_stem=False):\n",
    "    eval_tokens = df_train[token_column].map(literal_eval)\n",
    "    if repl_prod_name:\n",
    "        #print(\"replace prod name\")\n",
    "        eval_tokens = replace_prod_names(eval_tokens.tolist(), df_train.product_title )\n",
    "    if do_stem:\n",
    "        eval_tokens = eval_tokens.apply(stem_doc)\n",
    "    #print(\"create ngrans\")\n",
    "    ngrams = eval_tokens.apply(lambda row: create_n_grams(row, n_gram))\n",
    "    #print(\"score\")\n",
    "    ratings = df_train.bool_rating.tolist()\n",
    "\n",
    "    pos_total = ratings.count(True)\n",
    "    neg_total = ratings.count(False)\n",
    "    \n",
    "    #print(\"pos total=\", pos_total, \" neg_total=\", neg_total)\n",
    "    scoring = {}\n",
    "    document_frequency = {}\n",
    "\n",
    "\n",
    "    for it, d in enumerate(ngrams):\n",
    "        rating = ratings[it]\n",
    "        for t in list(set(d)):\n",
    "            try: \n",
    "                scoring[t][rating] += 1\n",
    "            except:\n",
    "                scoring[t] = {True:0, False:0}\n",
    "                scoring[t][rating] += 1\n",
    "            \n",
    "            try: \n",
    "                document_frequency[t] += 1\n",
    "            except:\n",
    "                document_frequency[t] = 1\n",
    "    \n",
    "   # print(\"calculate scoring\")\n",
    "    \n",
    "    for t in scoring:\n",
    "        c_pos = scoring[t][True]\n",
    "        c_neg = scoring[t][False]\n",
    "        tdf = document_frequency[t]\n",
    "        t_len = len(t)\n",
    "        \n",
    "        s_int = 0 if c_pos + c_neg is 0 else (c_pos /(c_pos + c_neg)) - (c_neg / (c_pos + c_neg))\n",
    "        s_int_not_normalized = c_pos - c_neg\n",
    "        scoring[t][\"s_int\"] = s_int\n",
    "        scoring[t][\"s_int_nn\"] = s_int_not_normalized\n",
    "        \n",
    "        scoring[t][\"s_int_df\"] = s_int * tdf\n",
    "        scoring[t][\"s_int_df_len\"] = s_int * tdf * t_len\n",
    "        scoring[t][\"s_int_log(df)\"] = s_int * math.log(tdf)\n",
    "\n",
    "        scoring[t][\"s_int_len_log(df)\"] = s_int * t_len * math.log(tdf)\n",
    "        scoring[t][\"s_int_df_log(len)\"] = s_int * tdf * math.log(t_len)\n",
    "        scoring[t][\"s_rand\"] = random() * 2 -1\n",
    "    \n",
    "    return scoring\n",
    "\n",
    "\n",
    "    \n",
    "\n",
    "    \n",
    "# scoring = score(df_train)   "
   ]
  },
  {
   "cell_type": "code",
   "execution_count": 5,
   "metadata": {},
   "outputs": [],
   "source": [
    "def classify_one(tokens, scoring, scoring_method):\n",
    "    res = 0\n",
    "    for t in tokens:\n",
    "        try:\n",
    "            res += scoring[t][scoring_method]\n",
    "        except:\n",
    "            continue\n",
    "            print(\"did not found \",t)\n",
    "    return res\n",
    "\n",
    "def classify(df_test, scoring, n_gram=2, token_column=\"tokens\", repl_prod_name=False, scoring_method=\"int\", do_stem=False):\n",
    "    #print(\"eval tokens\")\n",
    "    eval_tokens = df_test[token_column].map(literal_eval)\n",
    "    if repl_prod_name:\n",
    "        #print(\"replace prod name\")\n",
    "        eval_tokens = replace_prod_names(eval_tokens.tolist(), df_test.product_title )\n",
    "    \n",
    "    if do_stem:\n",
    "        eval_tokens = eval_tokens.apply(stem_doc)\n",
    "\n",
    "\n",
    "    #print(\"create ngrans\")\n",
    "    ngrams = eval_tokens.apply(lambda row: create_n_grams(row, n_gram))\n",
    "    #print(\"score\")\n",
    "    bool_rating = df_test.bool_rating.tolist()\n",
    "    doc_scoring = ngrams.apply(lambda tokens: classify_one(tokens, scoring, scoring_method))\n",
    "    bool_scoring = doc_scoring.apply(lambda x: x > 0)\n",
    "    \n",
    "    #print(\"check results\")\n",
    "            \n",
    "    tp, tn, fp, fn = 0,0,0,0\n",
    "    for it, score in enumerate(bool_scoring.tolist()):\n",
    "        if score and bool_rating[it]:\n",
    "            tp += 1\n",
    "        elif score and not bool_rating[it]:\n",
    "            fp += 1\n",
    "        elif not score and bool_rating[it]:\n",
    "            fn += 1\n",
    "        elif not score and not bool_rating[it]:\n",
    "            tn += 1\n",
    "    #print(\"pos\", bool_scoring.value_counts())\n",
    "    #print(\"tp=\", tp,\"tn=\", tn,\"fp=\", fp,\"fn=\", fn)\n",
    "    #print(\"scoring=\", sum([tp, tn])/sum([tp, tn, fp, fn]))\n",
    "    return sum([tp, tn])/sum([tp, tn, fp, fn]), sum([tp, tn]), sum([fp, fn])\n",
    "    \n",
    "#classify(df_test, scoring)\n",
    "\n",
    "\n"
   ]
  },
  {
   "cell_type": "code",
   "execution_count": 6,
   "metadata": {},
   "outputs": [],
   "source": [
    "from tqdm import tnrange, tqdm\n",
    "\n",
    "def test(datasets, n_gram=2, token_col=\"tokens\", repl_prod_name=False, scoring_method=\"s_int\", do_stem=False):\n",
    "    print(\"ngram=\", n_gram, \"token=\", token_col, \"repl_prod_name\", repl_prod_name, \"scoring_method\", scoring_method, \"do_stem\", do_stem)\n",
    "    resses = []\n",
    "    corrects = []\n",
    "    wrongs = []\n",
    "    scorings = []\n",
    "    for it, dataset in tqdm(enumerate(datasets), desc=\"iteration\"):\n",
    "        df_train = dataset[0]\n",
    "\n",
    "        #print(\"score\")\n",
    "        scoring = score(df_train, n_gram=n_gram, token_column=token_col, repl_prod_name=repl_prod_name, do_stem=do_stem) \n",
    "        scorings.append(scoring)\n",
    "        #print(\"classify\")\n",
    "    if type(scoring_method) is str:\n",
    "        print(\"single scoring\")\n",
    "        for it, dataset in tqdm(enumerate(datasets), desc=\"iteration\"):\n",
    "            df_test = dataset[1]\n",
    "            res, correct, wrong = classify(df_test, scoring, n_gram=n_gram, token_column=token_col, do_stem=do_stem, repl_prod_name=repl_prod_name, scoring_method=scoring_method)\n",
    "            resses.append(res)\n",
    "            corrects.append(correct)\n",
    "            wrongs.append(wrong)\n",
    "\n",
    "        print(\"total_res=\", sum(resses)/len(resses)) \n",
    "        print(\"alt_res=\", sum(corrects)/(sum(corrects) + sum(wrongs)))\n",
    "    \n",
    "        return sum(resses)/len(resses), sum(corrects)/(sum(corrects) + sum(wrongs))\n",
    "    else:\n",
    "        print(\"list scoring\")\n",
    "\n",
    "\n",
    "        results = {}\n",
    "        for scoring_method_it in scoring_method:\n",
    "            print(\"==== scoring method=\", scoring_method_it, \"======\")\n",
    "            for it, dataset in tqdm(enumerate(datasets), desc=\"iteration\"):\n",
    "                df_test = dataset[1]\n",
    "                res, correct, wrong = classify(df_test, scoring, n_gram=n_gram, token_column=token_col, do_stem=do_stem, repl_prod_name=repl_prod_name, scoring_method=scoring_method_it)\n",
    "                resses.append(res)\n",
    "                corrects.append(correct)\n",
    "                wrongs.append(wrong)\n",
    "            results[scoring_method_it] = {\"res\": resses, \"correct\": corrects, \"wrongs\": wrongs}\n",
    "\n",
    "            print(\"total_res=\", sum(resses)/len(resses)) \n",
    "            print(\"alt_res=\", sum(corrects)/(sum(corrects) + sum(wrongs)))\n",
    "        return results, None"
   ]
  },
  {
   "cell_type": "markdown",
   "metadata": {},
   "source": [
    "## Table 3"
   ]
  },
  {
   "cell_type": "code",
   "execution_count": 7,
   "metadata": {},
   "outputs": [
    {
     "name": "stdout",
     "output_type": "stream",
     "text": [
      "===== DATASET:  ../data/df_test_1.csv =======\n",
      "[0 1 2 3 4 5 6]\n"
     ]
    },
    {
     "name": "stderr",
     "output_type": "stream",
     "text": [
      "\r",
      "iteration: 0it [00:00, ?it/s]"
     ]
    },
    {
     "name": "stdout",
     "output_type": "stream",
     "text": [
      "token_col tokens\n",
      "ngram= 2 token= tokens repl_prod_name False scoring_method s_int do_stem False\n"
     ]
    },
    {
     "name": "stderr",
     "output_type": "stream",
     "text": [
      "iteration: 7it [00:08,  1.19s/it]\n",
      "iteration: 0it [00:00, ?it/s]"
     ]
    },
    {
     "name": "stdout",
     "output_type": "stream",
     "text": [
      "single scoring\n"
     ]
    },
    {
     "name": "stderr",
     "output_type": "stream",
     "text": [
      "iteration: 7it [00:01,  6.28it/s]\n"
     ]
    },
    {
     "name": "stdout",
     "output_type": "stream",
     "text": [
      "total_res= 0.9580188456674507\n",
      "alt_res= 0.959705734826952\n",
      "[0 1 2 3 4 5 6]\n"
     ]
    },
    {
     "name": "stderr",
     "output_type": "stream",
     "text": [
      "\r",
      "iteration: 0it [00:00, ?it/s]"
     ]
    },
    {
     "name": "stdout",
     "output_type": "stream",
     "text": [
      "token_col tokens\n",
      "ngram= 2 token= tokens repl_prod_name True scoring_method s_int do_stem False\n"
     ]
    },
    {
     "name": "stderr",
     "output_type": "stream",
     "text": [
      "iteration: 7it [00:28,  4.18s/it]\n",
      "iteration: 1it [00:00,  9.02it/s]"
     ]
    },
    {
     "name": "stdout",
     "output_type": "stream",
     "text": [
      "single scoring\n"
     ]
    },
    {
     "name": "stderr",
     "output_type": "stream",
     "text": [
      "iteration: 7it [00:03,  2.32it/s]\n"
     ]
    },
    {
     "name": "stdout",
     "output_type": "stream",
     "text": [
      "total_res= 0.9595632988575821\n",
      "alt_res= 0.960040127069052\n",
      "[0 1 2 3 4 5 6]\n"
     ]
    },
    {
     "name": "stderr",
     "output_type": "stream",
     "text": [
      "\r",
      "iteration: 0it [00:00, ?it/s]"
     ]
    },
    {
     "name": "stdout",
     "output_type": "stream",
     "text": [
      "token_col tokens\n",
      "ngram= 3 token= tokens repl_prod_name False scoring_method s_int do_stem False\n"
     ]
    },
    {
     "name": "stderr",
     "output_type": "stream",
     "text": [
      "iteration: 7it [00:09,  1.38s/it]\n",
      "iteration: 0it [00:00, ?it/s]"
     ]
    },
    {
     "name": "stdout",
     "output_type": "stream",
     "text": [
      "single scoring\n"
     ]
    },
    {
     "name": "stderr",
     "output_type": "stream",
     "text": [
      "iteration: 7it [00:01,  6.08it/s]\n"
     ]
    },
    {
     "name": "stdout",
     "output_type": "stream",
     "text": [
      "total_res= 0.9785270629991126\n",
      "alt_res= 0.979769269352951\n",
      "[0 1 2 3 4 5 6]\n"
     ]
    },
    {
     "name": "stderr",
     "output_type": "stream",
     "text": [
      "\r",
      "iteration: 0it [00:00, ?it/s]"
     ]
    },
    {
     "name": "stdout",
     "output_type": "stream",
     "text": [
      "token_col tokens\n",
      "ngram= 3 token= tokens repl_prod_name True scoring_method s_int do_stem False\n"
     ]
    },
    {
     "name": "stderr",
     "output_type": "stream",
     "text": [
      "iteration: 7it [00:30,  4.38s/it]\n",
      "iteration: 1it [00:00,  9.27it/s]"
     ]
    },
    {
     "name": "stdout",
     "output_type": "stream",
     "text": [
      "single scoring\n"
     ]
    },
    {
     "name": "stderr",
     "output_type": "stream",
     "text": [
      "iteration: 7it [00:03,  2.32it/s]\n"
     ]
    },
    {
     "name": "stdout",
     "output_type": "stream",
     "text": [
      "total_res= 0.9790594498669033\n",
      "alt_res= 0.980270857716101\n",
      "[0 1 2 3 4 5 6]\n"
     ]
    },
    {
     "name": "stderr",
     "output_type": "stream",
     "text": [
      "\r",
      "iteration: 0it [00:00, ?it/s]"
     ]
    },
    {
     "name": "stdout",
     "output_type": "stream",
     "text": [
      "token_col common_tokens\n",
      "ngram= 2 token= common_tokens repl_prod_name False scoring_method s_int do_stem False\n"
     ]
    },
    {
     "name": "stderr",
     "output_type": "stream",
     "text": [
      "iteration: 7it [00:07,  1.10s/it]\n",
      "iteration: 0it [00:00, ?it/s]"
     ]
    },
    {
     "name": "stdout",
     "output_type": "stream",
     "text": [
      "single scoring\n"
     ]
    },
    {
     "name": "stderr",
     "output_type": "stream",
     "text": [
      "iteration: 7it [00:01,  5.96it/s]\n"
     ]
    },
    {
     "name": "stdout",
     "output_type": "stream",
     "text": [
      "total_res= 0.9213329413015868\n",
      "alt_res= 0.9160675472329042\n",
      "[0 1 2 3 4 5 6]\n"
     ]
    },
    {
     "name": "stderr",
     "output_type": "stream",
     "text": [
      "\r",
      "iteration: 0it [00:00, ?it/s]"
     ]
    },
    {
     "name": "stdout",
     "output_type": "stream",
     "text": [
      "token_col common_tokens\n",
      "ngram= 2 token= common_tokens repl_prod_name True scoring_method s_int do_stem False\n"
     ]
    },
    {
     "name": "stderr",
     "output_type": "stream",
     "text": [
      "iteration: 7it [00:28,  4.06s/it]\n",
      "iteration: 1it [00:00,  8.56it/s]"
     ]
    },
    {
     "name": "stdout",
     "output_type": "stream",
     "text": [
      "single scoring\n"
     ]
    },
    {
     "name": "stderr",
     "output_type": "stream",
     "text": [
      "iteration: 7it [00:03,  2.42it/s]\n"
     ]
    },
    {
     "name": "stdout",
     "output_type": "stream",
     "text": [
      "total_res= 0.9214860208676924\n",
      "alt_res= 0.9162347433539542\n",
      "[0 1 2 3 4 5 6]\n"
     ]
    },
    {
     "name": "stderr",
     "output_type": "stream",
     "text": [
      "\r",
      "iteration: 0it [00:00, ?it/s]"
     ]
    },
    {
     "name": "stdout",
     "output_type": "stream",
     "text": [
      "token_col common_tokens\n",
      "ngram= 3 token= common_tokens repl_prod_name False scoring_method s_int do_stem False\n"
     ]
    },
    {
     "name": "stderr",
     "output_type": "stream",
     "text": [
      "iteration: 7it [00:09,  1.33s/it]\n",
      "iteration: 0it [00:00, ?it/s]"
     ]
    },
    {
     "name": "stdout",
     "output_type": "stream",
     "text": [
      "single scoring\n"
     ]
    },
    {
     "name": "stderr",
     "output_type": "stream",
     "text": [
      "iteration: 7it [00:01,  6.27it/s]\n"
     ]
    },
    {
     "name": "stdout",
     "output_type": "stream",
     "text": [
      "total_res= 0.977284826974268\n",
      "alt_res= 0.9785988965056011\n",
      "[0 1 2 3 4 5 6]\n"
     ]
    },
    {
     "name": "stderr",
     "output_type": "stream",
     "text": [
      "\r",
      "iteration: 0it [00:00, ?it/s]"
     ]
    },
    {
     "name": "stdout",
     "output_type": "stream",
     "text": [
      "token_col common_tokens\n",
      "ngram= 3 token= common_tokens repl_prod_name True scoring_method s_int do_stem False\n"
     ]
    },
    {
     "name": "stderr",
     "output_type": "stream",
     "text": [
      "iteration: 7it [00:29,  4.28s/it]\n",
      "iteration: 1it [00:00,  8.63it/s]"
     ]
    },
    {
     "name": "stdout",
     "output_type": "stream",
     "text": [
      "single scoring\n"
     ]
    },
    {
     "name": "stderr",
     "output_type": "stream",
     "text": [
      "iteration: 7it [00:03,  2.32it/s]\n"
     ]
    },
    {
     "name": "stdout",
     "output_type": "stream",
     "text": [
      "total_res= 0.977639751552795\n",
      "alt_res= 0.978933288747701\n",
      "===== DATASET:  ../data/df_test_2.csv =======\n",
      "[0 1 2 3 4 5 6 7 8 9]\n"
     ]
    },
    {
     "name": "stderr",
     "output_type": "stream",
     "text": [
      "\r",
      "iteration: 0it [00:00, ?it/s]"
     ]
    },
    {
     "name": "stdout",
     "output_type": "stream",
     "text": [
      "token_col tokens\n",
      "ngram= 2 token= tokens repl_prod_name False scoring_method s_int do_stem False\n"
     ]
    },
    {
     "name": "stderr",
     "output_type": "stream",
     "text": [
      "iteration: 10it [00:08,  1.15it/s]\n",
      "iteration: 2it [00:00, 12.20it/s]"
     ]
    },
    {
     "name": "stdout",
     "output_type": "stream",
     "text": [
      "single scoring\n"
     ]
    },
    {
     "name": "stderr",
     "output_type": "stream",
     "text": [
      "iteration: 10it [00:00, 12.55it/s]\n"
     ]
    },
    {
     "name": "stdout",
     "output_type": "stream",
     "text": [
      "total_res= 0.9982142857142857\n",
      "alt_res= 0.9982142857142857\n",
      "[0 1 2 3 4 5 6 7 8 9]\n"
     ]
    },
    {
     "name": "stderr",
     "output_type": "stream",
     "text": [
      "\r",
      "iteration: 0it [00:00, ?it/s]"
     ]
    },
    {
     "name": "stdout",
     "output_type": "stream",
     "text": [
      "token_col tokens\n",
      "ngram= 2 token= tokens repl_prod_name True scoring_method s_int do_stem False\n"
     ]
    },
    {
     "name": "stderr",
     "output_type": "stream",
     "text": [
      "iteration: 10it [00:31,  3.09s/it]\n",
      "iteration: 0it [00:00, ?it/s]"
     ]
    },
    {
     "name": "stdout",
     "output_type": "stream",
     "text": [
      "single scoring\n"
     ]
    },
    {
     "name": "stderr",
     "output_type": "stream",
     "text": [
      "iteration: 10it [00:02,  3.49it/s]\n"
     ]
    },
    {
     "name": "stdout",
     "output_type": "stream",
     "text": [
      "total_res= 0.9982142857142857\n",
      "alt_res= 0.9982142857142857\n",
      "[0 1 2 3 4 5 6 7 8 9]\n"
     ]
    },
    {
     "name": "stderr",
     "output_type": "stream",
     "text": [
      "\r",
      "iteration: 0it [00:00, ?it/s]"
     ]
    },
    {
     "name": "stdout",
     "output_type": "stream",
     "text": [
      "token_col tokens\n",
      "ngram= 3 token= tokens repl_prod_name False scoring_method s_int do_stem False\n"
     ]
    },
    {
     "name": "stderr",
     "output_type": "stream",
     "text": [
      "iteration: 10it [00:10,  1.02s/it]\n",
      "iteration: 0it [00:00, ?it/s]"
     ]
    },
    {
     "name": "stdout",
     "output_type": "stream",
     "text": [
      "single scoring\n"
     ]
    },
    {
     "name": "stderr",
     "output_type": "stream",
     "text": [
      "iteration: 10it [00:00, 11.16it/s]\n"
     ]
    },
    {
     "name": "stdout",
     "output_type": "stream",
     "text": [
      "total_res= 0.9984375\n",
      "alt_res= 0.9984375\n",
      "[0 1 2 3 4 5 6 7 8 9]\n"
     ]
    },
    {
     "name": "stderr",
     "output_type": "stream",
     "text": [
      "\r",
      "iteration: 0it [00:00, ?it/s]"
     ]
    },
    {
     "name": "stdout",
     "output_type": "stream",
     "text": [
      "token_col tokens\n",
      "ngram= 3 token= tokens repl_prod_name True scoring_method s_int do_stem False\n"
     ]
    },
    {
     "name": "stderr",
     "output_type": "stream",
     "text": [
      "iteration: 10it [00:32,  3.25s/it]\n",
      "iteration: 0it [00:00, ?it/s]"
     ]
    },
    {
     "name": "stdout",
     "output_type": "stream",
     "text": [
      "single scoring\n"
     ]
    },
    {
     "name": "stderr",
     "output_type": "stream",
     "text": [
      "iteration: 10it [00:02,  3.32it/s]\n"
     ]
    },
    {
     "name": "stdout",
     "output_type": "stream",
     "text": [
      "total_res= 0.9970982142857142\n",
      "alt_res= 0.9970982142857143\n",
      "[0 1 2 3 4 5 6 7 8 9]\n"
     ]
    },
    {
     "name": "stderr",
     "output_type": "stream",
     "text": [
      "\r",
      "iteration: 0it [00:00, ?it/s]"
     ]
    },
    {
     "name": "stdout",
     "output_type": "stream",
     "text": [
      "token_col common_tokens\n",
      "ngram= 2 token= common_tokens repl_prod_name False scoring_method s_int do_stem False\n"
     ]
    },
    {
     "name": "stderr",
     "output_type": "stream",
     "text": [
      "iteration: 10it [00:08,  1.22it/s]\n",
      "iteration: 2it [00:00, 14.04it/s]"
     ]
    },
    {
     "name": "stdout",
     "output_type": "stream",
     "text": [
      "single scoring\n"
     ]
    },
    {
     "name": "stderr",
     "output_type": "stream",
     "text": [
      "iteration: 10it [00:00, 13.02it/s]\n"
     ]
    },
    {
     "name": "stdout",
     "output_type": "stream",
     "text": [
      "total_res= 0.9973214285714287\n",
      "alt_res= 0.9973214285714286\n",
      "[0 1 2 3 4 5 6 7 8 9]\n"
     ]
    },
    {
     "name": "stderr",
     "output_type": "stream",
     "text": [
      "\r",
      "iteration: 0it [00:00, ?it/s]"
     ]
    },
    {
     "name": "stdout",
     "output_type": "stream",
     "text": [
      "token_col common_tokens\n",
      "ngram= 2 token= common_tokens repl_prod_name True scoring_method s_int do_stem False\n"
     ]
    },
    {
     "name": "stderr",
     "output_type": "stream",
     "text": [
      "iteration: 10it [00:30,  3.01s/it]\n",
      "iteration: 0it [00:00, ?it/s]"
     ]
    },
    {
     "name": "stdout",
     "output_type": "stream",
     "text": [
      "single scoring\n"
     ]
    },
    {
     "name": "stderr",
     "output_type": "stream",
     "text": [
      "iteration: 10it [00:02,  3.42it/s]\n"
     ]
    },
    {
     "name": "stdout",
     "output_type": "stream",
     "text": [
      "total_res= 0.9970982142857142\n",
      "alt_res= 0.9970982142857143\n",
      "[0 1 2 3 4 5 6 7 8 9]\n"
     ]
    },
    {
     "name": "stderr",
     "output_type": "stream",
     "text": [
      "\r",
      "iteration: 0it [00:00, ?it/s]"
     ]
    },
    {
     "name": "stdout",
     "output_type": "stream",
     "text": [
      "token_col common_tokens\n",
      "ngram= 3 token= common_tokens repl_prod_name False scoring_method s_int do_stem False\n"
     ]
    },
    {
     "name": "stderr",
     "output_type": "stream",
     "text": [
      "iteration: 10it [00:09,  1.00s/it]\n",
      "iteration: 2it [00:00, 13.24it/s]"
     ]
    },
    {
     "name": "stdout",
     "output_type": "stream",
     "text": [
      "single scoring\n"
     ]
    },
    {
     "name": "stderr",
     "output_type": "stream",
     "text": [
      "iteration: 10it [00:00, 12.33it/s]\n"
     ]
    },
    {
     "name": "stdout",
     "output_type": "stream",
     "text": [
      "total_res= 0.9984375\n",
      "alt_res= 0.9984375\n",
      "[0 1 2 3 4 5 6 7 8 9]\n"
     ]
    },
    {
     "name": "stderr",
     "output_type": "stream",
     "text": [
      "\r",
      "iteration: 0it [00:00, ?it/s]"
     ]
    },
    {
     "name": "stdout",
     "output_type": "stream",
     "text": [
      "token_col common_tokens\n",
      "ngram= 3 token= common_tokens repl_prod_name True scoring_method s_int do_stem False\n"
     ]
    },
    {
     "name": "stderr",
     "output_type": "stream",
     "text": [
      "iteration: 10it [00:32,  3.18s/it]\n",
      "iteration: 0it [00:00, ?it/s]"
     ]
    },
    {
     "name": "stdout",
     "output_type": "stream",
     "text": [
      "single scoring\n"
     ]
    },
    {
     "name": "stderr",
     "output_type": "stream",
     "text": [
      "iteration: 10it [00:02,  3.26it/s]"
     ]
    },
    {
     "name": "stdout",
     "output_type": "stream",
     "text": [
      "total_res= 0.9970982142857142\n",
      "alt_res= 0.9970982142857143\n"
     ]
    },
    {
     "name": "stderr",
     "output_type": "stream",
     "text": [
      "\n"
     ]
    }
   ],
   "source": [
    "for dataset_path in dataset_paths: \n",
    "    print(\"===== DATASET: \", dataset_path, \"=======\")\n",
    "    for token_col in [\"tokens\", \"common_tokens\"]:\n",
    "        for n in [2,3]:\n",
    "            for repl_prod_name in [False, True]:\n",
    "                dataset = load_dataset(dataset_path)\n",
    "                print(\"token_col\", token_col)\n",
    "                test(dataset, n_gram=n, token_col=token_col, repl_prod_name=repl_prod_name)\n"
   ]
  },
  {
   "cell_type": "markdown",
   "metadata": {},
   "source": [
    "## Table 4"
   ]
  },
  {
   "cell_type": "code",
   "execution_count": 8,
   "metadata": {},
   "outputs": [
    {
     "name": "stdout",
     "output_type": "stream",
     "text": [
      "===== DATASET:  ../data/df_test_1.csv =======\n",
      "[0 1 2 3 4 5 6]\n"
     ]
    },
    {
     "name": "stderr",
     "output_type": "stream",
     "text": [
      "\r",
      "iteration: 0it [00:00, ?it/s]"
     ]
    },
    {
     "name": "stdout",
     "output_type": "stream",
     "text": [
      "ngram= 1 token= tokens repl_prod_name False scoring_method s_int do_stem True\n"
     ]
    },
    {
     "name": "stderr",
     "output_type": "stream",
     "text": [
      "iteration: 7it [00:48,  7.18s/it]\n",
      "iteration: 1it [00:00,  6.19it/s]"
     ]
    },
    {
     "name": "stdout",
     "output_type": "stream",
     "text": [
      "single scoring\n"
     ]
    },
    {
     "name": "stderr",
     "output_type": "stream",
     "text": [
      "iteration: 7it [00:07,  1.07it/s]\n"
     ]
    },
    {
     "name": "stdout",
     "output_type": "stream",
     "text": [
      "total_res= 0.8391676478991427\n",
      "alt_res= 0.8373181742183581\n",
      "[0 1 2 3 4 5 6]\n"
     ]
    },
    {
     "name": "stderr",
     "output_type": "stream",
     "text": [
      "\r",
      "iteration: 0it [00:00, ?it/s]"
     ]
    },
    {
     "name": "stdout",
     "output_type": "stream",
     "text": [
      "ngram= 1 token= tokens repl_prod_name False scoring_method s_int do_stem False\n"
     ]
    },
    {
     "name": "stderr",
     "output_type": "stream",
     "text": [
      "iteration: 7it [00:06,  1.07it/s]\n",
      "iteration: 0it [00:00, ?it/s]"
     ]
    },
    {
     "name": "stdout",
     "output_type": "stream",
     "text": [
      "single scoring\n"
     ]
    },
    {
     "name": "stderr",
     "output_type": "stream",
     "text": [
      "iteration: 7it [00:00,  7.41it/s]\n"
     ]
    },
    {
     "name": "stdout",
     "output_type": "stream",
     "text": [
      "total_res= 0.8393075667462113\n",
      "alt_res= 0.8374853703394082\n",
      "===== DATASET:  ../data/df_test_2.csv =======\n",
      "[0 1 2 3 4 5 6 7 8 9]\n"
     ]
    },
    {
     "name": "stderr",
     "output_type": "stream",
     "text": [
      "\r",
      "iteration: 0it [00:00, ?it/s]"
     ]
    },
    {
     "name": "stdout",
     "output_type": "stream",
     "text": [
      "ngram= 1 token= tokens repl_prod_name False scoring_method s_int do_stem True\n"
     ]
    },
    {
     "name": "stderr",
     "output_type": "stream",
     "text": [
      "iteration: 10it [00:49,  4.95s/it]\n",
      "iteration: 0it [00:00, ?it/s]"
     ]
    },
    {
     "name": "stdout",
     "output_type": "stream",
     "text": [
      "single scoring\n"
     ]
    },
    {
     "name": "stderr",
     "output_type": "stream",
     "text": [
      "iteration: 10it [00:05,  1.75it/s]\n"
     ]
    },
    {
     "name": "stdout",
     "output_type": "stream",
     "text": [
      "total_res= 0.9613839285714285\n",
      "alt_res= 0.9613839285714286\n",
      "[0 1 2 3 4 5 6 7 8 9]\n"
     ]
    },
    {
     "name": "stderr",
     "output_type": "stream",
     "text": [
      "\r",
      "iteration: 0it [00:00, ?it/s]"
     ]
    },
    {
     "name": "stdout",
     "output_type": "stream",
     "text": [
      "ngram= 1 token= tokens repl_prod_name False scoring_method s_int do_stem False\n"
     ]
    },
    {
     "name": "stderr",
     "output_type": "stream",
     "text": [
      "iteration: 10it [00:06,  1.53it/s]\n",
      "iteration: 2it [00:00, 15.71it/s]"
     ]
    },
    {
     "name": "stdout",
     "output_type": "stream",
     "text": [
      "single scoring\n"
     ]
    },
    {
     "name": "stderr",
     "output_type": "stream",
     "text": [
      "iteration: 10it [00:00, 14.73it/s]"
     ]
    },
    {
     "name": "stdout",
     "output_type": "stream",
     "text": [
      "total_res= 0.9665178571428571\n",
      "alt_res= 0.9665178571428571\n"
     ]
    },
    {
     "name": "stderr",
     "output_type": "stream",
     "text": [
      "\n"
     ]
    }
   ],
   "source": [
    "for dataset_path in dataset_paths: \n",
    "    print(\"===== DATASET: \", dataset_path, \"=======\")\n",
    "    for do_stem in [True, False]:\n",
    "        dataset = load_dataset(dataset_path)\n",
    "        test(dataset, do_stem=do_stem, n_gram=1)\n",
    "\n"
   ]
  },
  {
   "cell_type": "markdown",
   "metadata": {},
   "source": [
    "## Table 6"
   ]
  },
  {
   "cell_type": "code",
   "execution_count": 9,
   "metadata": {},
   "outputs": [
    {
     "name": "stdout",
     "output_type": "stream",
     "text": [
      "===== DATASET:  ../data/df_test_1.csv =======\n",
      "[0 1 2 3 4 5 6]\n"
     ]
    },
    {
     "name": "stderr",
     "output_type": "stream",
     "text": [
      "\r",
      "iteration: 0it [00:00, ?it/s]"
     ]
    },
    {
     "name": "stdout",
     "output_type": "stream",
     "text": [
      "ngram= 3 token= tokens repl_prod_name True scoring_method ['s_int', 's_rand', 's_int_df', 's_int_df_len', 's_int_log(df)', 's_int_len_log(df)', 's_int_df_log(len)'] do_stem False\n"
     ]
    },
    {
     "name": "stderr",
     "output_type": "stream",
     "text": [
      "iteration: 7it [00:29,  4.34s/it]\n",
      "iteration: 1it [00:00,  8.62it/s]"
     ]
    },
    {
     "name": "stdout",
     "output_type": "stream",
     "text": [
      "list scoring\n",
      "==== scoring method= s_int ======\n"
     ]
    },
    {
     "name": "stderr",
     "output_type": "stream",
     "text": [
      "iteration: 7it [00:03,  2.23it/s]\n",
      "iteration: 1it [00:00,  9.46it/s]"
     ]
    },
    {
     "name": "stdout",
     "output_type": "stream",
     "text": [
      "total_res= 0.9790594498669033\n",
      "alt_res= 0.980270857716101\n",
      "==== scoring method= s_rand ======\n"
     ]
    },
    {
     "name": "stderr",
     "output_type": "stream",
     "text": [
      "iteration: 7it [00:03,  2.34it/s]\n",
      "iteration: 1it [00:00,  9.61it/s]"
     ]
    },
    {
     "name": "stdout",
     "output_type": "stream",
     "text": [
      "total_res= 0.7394713373615807\n",
      "alt_res= 0.739257649222538\n",
      "==== scoring method= s_int_df ======\n"
     ]
    },
    {
     "name": "stderr",
     "output_type": "stream",
     "text": [
      "iteration: 7it [00:03,  2.32it/s]\n",
      "iteration: 1it [00:00,  9.37it/s]"
     ]
    },
    {
     "name": "stdout",
     "output_type": "stream",
     "text": [
      "total_res= 0.8073841250715336\n",
      "alt_res= 0.8095636181240595\n",
      "==== scoring method= s_int_df_len ======\n"
     ]
    },
    {
     "name": "stderr",
     "output_type": "stream",
     "text": [
      "iteration: 7it [00:03,  2.35it/s]\n",
      "iteration: 1it [00:00,  9.42it/s]"
     ]
    },
    {
     "name": "stdout",
     "output_type": "stream",
     "text": [
      "total_res= 0.8425213493084811\n",
      "alt_res= 0.8457197793011202\n",
      "==== scoring method= s_int_log(df) ======\n"
     ]
    },
    {
     "name": "stderr",
     "output_type": "stream",
     "text": [
      "iteration: 7it [00:03,  2.30it/s]\n",
      "iteration: 1it [00:00,  9.23it/s]"
     ]
    },
    {
     "name": "stdout",
     "output_type": "stream",
     "text": [
      "total_res= 0.8646958967396712\n",
      "alt_res= 0.8686841665273366\n",
      "==== scoring method= s_int_len_log(df) ======\n"
     ]
    },
    {
     "name": "stderr",
     "output_type": "stream",
     "text": [
      "iteration: 7it [00:03,  2.35it/s]\n",
      "iteration: 1it [00:00,  9.50it/s]"
     ]
    },
    {
     "name": "stdout",
     "output_type": "stream",
     "text": [
      "total_res= 0.8802618177933679\n",
      "alt_res= 0.8845232123948058\n",
      "==== scoring method= s_int_df_log(len) ======\n"
     ]
    },
    {
     "name": "stderr",
     "output_type": "stream",
     "text": [
      "iteration: 7it [00:03,  2.31it/s]\n"
     ]
    },
    {
     "name": "stdout",
     "output_type": "stream",
     "text": [
      "total_res= 0.8895237661311943\n",
      "alt_res= 0.8941409702152053\n",
      "===== DATASET:  ../data/df_test_2.csv =======\n",
      "[0 1 2 3 4 5 6 7 8 9]\n"
     ]
    },
    {
     "name": "stderr",
     "output_type": "stream",
     "text": [
      "\r",
      "iteration: 0it [00:00, ?it/s]"
     ]
    },
    {
     "name": "stdout",
     "output_type": "stream",
     "text": [
      "ngram= 3 token= tokens repl_prod_name True scoring_method ['s_int', 's_rand', 's_int_df', 's_int_df_len', 's_int_log(df)', 's_int_len_log(df)', 's_int_df_log(len)'] do_stem False\n"
     ]
    },
    {
     "name": "stderr",
     "output_type": "stream",
     "text": [
      "iteration: 10it [00:32,  3.22s/it]\n",
      "iteration: 0it [00:00, ?it/s]"
     ]
    },
    {
     "name": "stdout",
     "output_type": "stream",
     "text": [
      "list scoring\n",
      "==== scoring method= s_int ======\n"
     ]
    },
    {
     "name": "stderr",
     "output_type": "stream",
     "text": [
      "iteration: 10it [00:02,  3.44it/s]\n",
      "iteration: 0it [00:00, ?it/s]"
     ]
    },
    {
     "name": "stdout",
     "output_type": "stream",
     "text": [
      "total_res= 0.9970982142857142\n",
      "alt_res= 0.9970982142857143\n",
      "==== scoring method= s_rand ======\n"
     ]
    },
    {
     "name": "stderr",
     "output_type": "stream",
     "text": [
      "iteration: 10it [00:02,  3.44it/s]\n",
      "iteration: 0it [00:00, ?it/s]"
     ]
    },
    {
     "name": "stdout",
     "output_type": "stream",
     "text": [
      "total_res= 0.7431919642857142\n",
      "alt_res= 0.7431919642857143\n",
      "==== scoring method= s_int_df ======\n"
     ]
    },
    {
     "name": "stderr",
     "output_type": "stream",
     "text": [
      "iteration: 10it [00:02,  3.34it/s]\n",
      "iteration: 0it [00:00, ?it/s]"
     ]
    },
    {
     "name": "stdout",
     "output_type": "stream",
     "text": [
      "total_res= 0.8235119047619047\n",
      "alt_res= 0.8235119047619047\n",
      "==== scoring method= s_int_df_len ======\n"
     ]
    },
    {
     "name": "stderr",
     "output_type": "stream",
     "text": [
      "iteration: 10it [00:02,  3.43it/s]\n",
      "iteration: 0it [00:00, ?it/s]"
     ]
    },
    {
     "name": "stdout",
     "output_type": "stream",
     "text": [
      "total_res= 0.8647321428571428\n",
      "alt_res= 0.8647321428571428\n",
      "==== scoring method= s_int_log(df) ======\n"
     ]
    },
    {
     "name": "stderr",
     "output_type": "stream",
     "text": [
      "iteration: 10it [00:02,  3.42it/s]\n",
      "iteration: 0it [00:00, ?it/s]"
     ]
    },
    {
     "name": "stdout",
     "output_type": "stream",
     "text": [
      "total_res= 0.8871875\n",
      "alt_res= 0.8871875\n",
      "==== scoring method= s_int_len_log(df) ======\n"
     ]
    },
    {
     "name": "stderr",
     "output_type": "stream",
     "text": [
      "iteration: 10it [00:02,  3.44it/s]\n",
      "iteration: 0it [00:00, ?it/s]"
     ]
    },
    {
     "name": "stdout",
     "output_type": "stream",
     "text": [
      "total_res= 0.9019717261904762\n",
      "alt_res= 0.9019717261904762\n",
      "==== scoring method= s_int_df_log(len) ======\n"
     ]
    },
    {
     "name": "stderr",
     "output_type": "stream",
     "text": [
      "iteration: 10it [00:02,  3.41it/s]\n"
     ]
    },
    {
     "name": "stdout",
     "output_type": "stream",
     "text": [
      "total_res= 0.9140943877551019\n",
      "alt_res= 0.914094387755102\n"
     ]
    }
   ],
   "source": [
    "for dataset_path in dataset_paths: \n",
    "    print(\"===== DATASET: \", dataset_path, \"=======\")\n",
    "\n",
    "    scoring_methods = [\"s_int\", \"s_rand\", \"s_int_df\", \"s_int_df_len\", \"s_int_log(df)\", \"s_int_len_log(df)\", \"s_int_df_log(len)\"]\n",
    "    dataset = load_dataset(dataset_path)\n",
    "    test(dataset, n_gram=3, token_col=\"tokens\", repl_prod_name=repl_prod_name, scoring_method=scoring_methods)\n",
    "\n"
   ]
  },
  {
   "cell_type": "code",
   "execution_count": null,
   "metadata": {},
   "outputs": [],
   "source": []
  }
 ],
 "metadata": {
  "kernelspec": {
   "display_name": "Python 3",
   "language": "python",
   "name": "python3"
  },
  "language_info": {
   "codemirror_mode": {
    "name": "ipython",
    "version": 3
   },
   "file_extension": ".py",
   "mimetype": "text/x-python",
   "name": "python",
   "nbconvert_exporter": "python",
   "pygments_lexer": "ipython3",
   "version": "3.7.4"
  }
 },
 "nbformat": 4,
 "nbformat_minor": 2
}
