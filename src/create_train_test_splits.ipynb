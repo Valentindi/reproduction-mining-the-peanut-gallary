{
 "cells": [
  {
   "cell_type": "markdown",
   "metadata": {},
   "source": [
    "# Create test and train splits."
   ]
  },
  {
   "cell_type": "markdown",
   "metadata": {},
   "source": [
    "## Create Corpus"
   ]
  },
  {
   "cell_type": "code",
   "execution_count": null,
   "metadata": {
    "pycharm": {
     "is_executing": false
    }
   },
   "outputs": [],
   "source": [
    "import pandas as pd\n",
    "from copy import copy\n",
    "import math, re\n",
    "from nltk import word_tokenize\n",
    "import random as rd\n",
    "import csv\n",
    "from ast import literal_eval\n",
    "import matplotlib.pyplot as plt\n",
    "import numpy as np\n",
    "\n",
    "\n",
    "\n",
    "\n",
    "\n",
    "\n",
    "data_complete = \"../data/amazon.csv\"\n",
    "data_filtered = \"../data/amazon_sample.csv\""
   ]
  },
  {
   "cell_type": "markdown",
   "metadata": {},
   "source": [
    "## Describe Dataset"
   ]
  },
  {
   "cell_type": "code",
   "execution_count": null,
   "metadata": {},
   "outputs": [],
   "source": [
    "df = pd.read_csv(data_filtered)\n",
    "print(data_filtered, df.columns)\n",
    "\n",
    "star1 = np.array([df.star_rating.value_counts()[1], 0])\n",
    "star2 = np.array([df.star_rating.value_counts()[2], 0])\n",
    "star3 = np.array([0, df.star_rating.value_counts()[3]])\n",
    "star4 = np.array([0, df.star_rating.value_counts()[4]])\n",
    "star5 = np.array([0, df.star_rating.value_counts()[5]])"
   ]
  },
  {
   "cell_type": "code",
   "execution_count": null,
   "metadata": {},
   "outputs": [],
   "source": [
    "%matplotlib inline\n",
    "df.star_rating.value_counts()\n",
    "\n",
    "print(star1, star2, star3, star4, star5)\n",
    "width=0.9\n",
    "plt.figure(figsize=(5,5))\n",
    "p1 = plt.bar([0,1], star1, width, color=\"darkred\")\n",
    "p2 = plt.bar([0,1], star2, width, bottom=star1, color=\"red\")\n",
    "p3 = plt.bar([0,1], star3, width, bottom=star1+star2, color=\"lightgreen\")\n",
    "p4 = plt.bar([0,1], star4, width, bottom=star1+star2+star3, color=\"green\")\n",
    "p5 = plt.bar([0,1], star5, width, bottom=star1+star2+star3+star4, color=\"darkgreen\")\n",
    "\n",
    "\n",
    "\n",
    "\n",
    "plt.ylabel('Number of product reviews')\n",
    "plt.xlabel('Binary rating')\n",
    "\n",
    "plt.title('Distribution of skalar-rating (star-rating)')\n",
    "\n",
    "plt.xticks([0,1],('negative', 'positive'))\n",
    "\n",
    "plt.legend(('1 Star', '2 Stars', '3 Stars', '4 Stars', '5 Stars'))\n",
    "\n",
    "#plt.show()\n",
    "plt.savefig(\"../figs/rating-distribution.png\")"
   ]
  },
  {
   "cell_type": "code",
   "execution_count": null,
   "metadata": {},
   "outputs": [],
   "source": [
    "df.bool_rating.value_counts()"
   ]
  },
  {
   "cell_type": "markdown",
   "metadata": {},
   "source": [
    "## Create Dataset"
   ]
  },
  {
   "cell_type": "code",
   "execution_count": null,
   "metadata": {},
   "outputs": [],
   "source": [
    "n_product = [ 50, 50, 201, 169, 100, 100, 100]\n",
    "n_reviews = [ 110+29, 979+411, 842+173, 1410+251, 578+120,210+7, 719+81]\n",
    "df = pd.read_csv(data_filtered)\n",
    "print(len(df))\n",
    "df = df.drop_duplicates(subset=[\"review_body\"])\n",
    "print(len(df))\n",
    "print(df.columns)"
   ]
  },
  {
   "cell_type": "code",
   "execution_count": null,
   "metadata": {},
   "outputs": [],
   "source": [
    "import operator\n",
    "df = pd.read_csv(data_filtered)\n",
    "print(len(df))\n",
    "df = df.drop_duplicates(subset=[\"review_body\"])\n",
    "print(len(df))\n",
    "\n",
    "\n",
    "df[\"test_idx\"] = -1\n",
    "categorie_keys = df['product_category'].value_counts(dropna=False).keys().tolist()\n",
    "categorie_counts = df['product_category'].value_counts(dropna=False).tolist()\n",
    "categorie_count_dict = dict(zip(categorie_keys, categorie_counts))\n",
    "four_largest_categories = list(sorted(categorie_count_dict.items(), key=operator.itemgetter(1), reverse=True))[:4]\n",
    "\n",
    "dfs = []\n",
    "for rit in range(0, 10):\n",
    "    sets = []\n",
    "\n",
    "    for category , _ in four_largest_categories:\n",
    "        df_category = df[df.product_category == category]\n",
    "        rid_pos = df_category[df_category.bool_rating == True].review_id.to_list()\n",
    "        rid_neg = df_category[df_category.bool_rating == False].review_id.to_list()\n",
    "        rid_neg = rid_neg if len(rid_neg) < 56 else rd.sample(rid_neg, 56)\n",
    "        rid_pos = rid_pos if len(rid_pos) < 56 else rd.sample(rid_pos, 56)\n",
    "        #print(len(rid_pos), len(rid_neg))\n",
    "        #print(\"unique\", len(list(set(rid_pos))), len(list(set(rid_neg))))\n",
    "        sets = sets + rid_pos + rid_neg\n",
    "         \n",
    "        df_product = df[df.review_id.isin(sets)]\n",
    "        df_product[\"test_idx\"] = rit\n",
    "        dfs.append(df_product)\n",
    "\n",
    "df_test_2 = pd.concat(dfs)\n",
    "df_test_2.to_csv(\"../data/df_test_2.csv\")\n",
    "\n",
    "print(df_test_2.columns)\n",
    "df_test_2.describe()\n",
    "\n"
   ]
  },
  {
   "cell_type": "code",
   "execution_count": null,
   "metadata": {},
   "outputs": [],
   "source": [
    "df = pd.read_csv(data_filtered)\n",
    "df.tokens = df.title_tokenized\n",
    "print(len(df))\n",
    "df = df.drop_duplicates(subset=[\"review_headline\"])\n",
    "print(len(df))\n",
    "\n",
    "\n",
    "df[\"test_idx\"] = -1\n",
    "categorie_keys = df['product_category'].value_counts(dropna=False).keys().tolist()\n",
    "categorie_counts = df['product_category'].value_counts(dropna=False).tolist()\n",
    "categorie_count_dict = dict(zip(categorie_keys, categorie_counts))\n",
    "four_largest_categories = list(sorted(categorie_count_dict.items(), key=operator.itemgetter(1), reverse=True))[:4]\n",
    "\n",
    "dfs = []\n",
    "for rit in range(0, 10):\n",
    "    sets = []\n",
    "\n",
    "    for category , _ in four_largest_categories:\n",
    "        df_category = df[df.product_category == category]\n",
    "        rid_pos = df_category[df_category.bool_rating == True].review_id.to_list()\n",
    "        rid_neg = df_category[df_category.bool_rating == False].review_id.to_list()\n",
    "        rid_neg = rid_neg if len(rid_neg) < 56 else rd.sample(rid_neg, 56)\n",
    "        rid_pos = rid_pos if len(rid_pos) < 56 else rd.sample(rid_pos, 56)\n",
    "        #print(len(rid_pos), len(rid_neg))\n",
    "        #print(\"unique\", len(list(set(rid_pos))), len(list(set(rid_neg))))\n",
    "        sets = sets + rid_pos + rid_neg\n",
    "         \n",
    "        df_product = df[df.review_id.isin(sets)]\n",
    "        df_product[\"test_idx\"] = rit\n",
    "        dfs.append(df_product)\n",
    "\n",
    "df_test_2 = pd.concat(dfs)\n",
    "df_test_2.to_csv(\"../data/df_test_2_title.csv\")\n",
    "\n",
    "print(df_test_2.columns)\n",
    "df_test_2.describe()\n",
    "\n",
    "\n",
    "\n"
   ]
  },
  {
   "cell_type": "code",
   "execution_count": null,
   "metadata": {},
   "outputs": [],
   "source": [
    "import operator\n",
    "import pandas as pd\n",
    "df = pd.read_csv(data_filtered)\n",
    "print(len(df))\n",
    "df = df.drop_duplicates(subset=[\"review_body\"])\n",
    "print(len(df))\n",
    "\n",
    "dfs = []\n",
    "for itc, category in enumerate(df.product_category.unique()):\n",
    "    df_category = pd.DataFrame()\n",
    "    df_all_categorie =  df[df.product_category == category]\n",
    "    product_ids = []\n",
    "    print(\"======\", itc, \"===\", category, \"======\")\n",
    "    while len(df_category) < n_reviews[itc] or len(df_category) == len(df_all_categorie):\n",
    "        product_id = rd.choice(df_all_categorie.product_id.to_list())\n",
    "        if product_id in product_ids:\n",
    "            continue\n",
    "\n",
    "        df_product = df[df.product_id == product_id]\n",
    "        df_category = pd.concat([df_category, df_product])\n",
    "    print(\"category:\", category, df_category.shape,  n_reviews[itc])\n",
    "    df_category[\"test_idx\"] = itc\n",
    "    \n",
    "    \n",
    "    \n",
    "    dfs.append(df_category)\n",
    "    \n",
    "df_test_1 = pd.concat(dfs)\n",
    "print(\"ready, shape\", df_test_1.shape)\n",
    "print(\"test_1 set\", df_test_1.test_idx.value_counts())\n",
    "df_test_1.to_csv(\"../data/df_test_1.csv\")\n",
    "\n",
    "print(df_test_1.columns)\n",
    "print(df_test_1.describe())"
   ]
  },
  {
   "cell_type": "code",
   "execution_count": null,
   "metadata": {},
   "outputs": [],
   "source": [
    "df = pd.read_csv(data_filtered)\n",
    "df.tokens = df.title_tokenized\n",
    "print(len(df))\n",
    "df = df.drop_duplicates(subset=[\"review_headline\"])\n",
    "print(len(df))\n",
    "\n",
    "\n",
    "data_set_review_body = \"data/set_review_headline.csv\"\n",
    "dfs = []\n",
    "for it, category in enumerate(df.product_category.unique()):\n",
    "    df_category = pd.DataFrame()\n",
    "    df_all_categorie =  df[df.product_category == category]\n",
    "    product_ids = []\n",
    "    print(\"======\", it, \"===\", category, \"======\")\n",
    "    while len(df_category) < n_reviews[it] or len(df_category) == len(df_all_categorie):\n",
    "        product_id = rd.choice(df_all_categorie.product_id.to_list())\n",
    "        if product_id in product_ids:\n",
    "            continue\n",
    "\n",
    "        df_product = df[df.product_id == product_id]\n",
    "        df_category = pd.concat([df_category, df_product])\n",
    "        df_category[\"test_idx\"] = itc\n",
    "\n",
    "\n",
    "        print(\"category:\", category, df_category.shape,  n_reviews[it])\n",
    "    dfs.append(df_category)\n",
    "    \n",
    "df = pd.concat(dfs)\n",
    "print(\"ready, shape\", df.shape)\n",
    "\n",
    "df[\"tokens\"] = df[\"title_tokenized\"]\n",
    "\n",
    "df.to_csv(\"../data/df_test_1_title.csv\")\n",
    "\n",
    "print(\"ready\")"
   ]
  },
  {
   "cell_type": "code",
   "execution_count": null,
   "metadata": {},
   "outputs": [],
   "source": [
    "dfs[0]"
   ]
  },
  {
   "cell_type": "code",
   "execution_count": null,
   "metadata": {},
   "outputs": [],
   "source": []
  }
 ],
 "metadata": {
  "kernelspec": {
   "display_name": "Python 3",
   "language": "python",
   "name": "python3"
  },
  "language_info": {
   "codemirror_mode": {
    "name": "ipython",
    "version": 3
   },
   "file_extension": ".py",
   "mimetype": "text/x-python",
   "name": "python",
   "nbconvert_exporter": "python",
   "pygments_lexer": "ipython3",
   "version": "3.7.4"
  },
  "pycharm": {
   "stem_cell": {
    "cell_type": "raw",
    "metadata": {
     "collapsed": false
    },
    "source": []
   }
  }
 },
 "nbformat": 4,
 "nbformat_minor": 2
}
